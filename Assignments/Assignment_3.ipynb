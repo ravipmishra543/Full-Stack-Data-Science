{
 "cells": [
  {
   "cell_type": "markdown",
   "metadata": {},
   "source": [
    "### 1 . you have to write a fun which will take string and return a len of it without using a inbuilt fun len"
   ]
  },
  {
   "cell_type": "code",
   "execution_count": 5,
   "metadata": {},
   "outputs": [],
   "source": [
    "def str_len(a):\n",
    "    \"\"\"\n",
    "    This function will return the length of the given string\n",
    "    \"\"\"\n",
    "    c=0\n",
    "    if type(a) == str:\n",
    "        for i in a:\n",
    "            c += 1\n",
    "        return c\n",
    "    else:\n",
    "        return \"Data type is not string\""
   ]
  },
  {
   "cell_type": "code",
   "execution_count": 6,
   "metadata": {},
   "outputs": [
    {
     "data": {
      "text/plain": [
       "3"
      ]
     },
     "execution_count": 6,
     "metadata": {},
     "output_type": "execute_result"
    }
   ],
   "source": [
    "str_len('str')"
   ]
  },
  {
   "cell_type": "code",
   "execution_count": 7,
   "metadata": {},
   "outputs": [
    {
     "data": {
      "text/plain": [
       "'Data type is not string'"
      ]
     },
     "execution_count": 7,
     "metadata": {},
     "output_type": "execute_result"
    }
   ],
   "source": [
    "str_len(5)"
   ]
  },
  {
   "cell_type": "code",
   "execution_count": 8,
   "metadata": {},
   "outputs": [
    {
     "data": {
      "text/plain": [
       "0"
      ]
     },
     "execution_count": 8,
     "metadata": {},
     "output_type": "execute_result"
    }
   ],
   "source": [
    "str_len('')"
   ]
  },
  {
   "cell_type": "markdown",
   "metadata": {},
   "source": [
    "### 2 . write a fun which will be able to print an index of all premitive element which you will pass "
   ]
  },
  {
   "cell_type": "code",
   "execution_count": 40,
   "metadata": {},
   "outputs": [],
   "source": [
    "def index_pos(l):\n",
    "    \"\"\"\n",
    "    This function will be able to print an index of all premitive element which you will pass\n",
    "    \"\"\"\n",
    "    if type(l) in [list,tuple,set,str]:\n",
    "        for i,j in enumerate(l):\n",
    "            print(f\"Index of element {j} is :{i}\")\n",
    "    else:\n",
    "        return \"Please enter iterable as an argument\""
   ]
  },
  {
   "cell_type": "code",
   "execution_count": 41,
   "metadata": {},
   "outputs": [
    {
     "name": "stdout",
     "output_type": "stream",
     "text": [
      "Index of element 1 is :0\n",
      "Index of element 2 is :1\n",
      "Index of element 3 is :2\n",
      "Index of element string is :3\n"
     ]
    }
   ],
   "source": [
    "index_pos({'string',1,2,3})"
   ]
  },
  {
   "cell_type": "markdown",
   "metadata": {},
   "source": [
    "### 3 . Write a fun which will take input as a dict and give me out as a list of all the values even in case of 2 level nesting it should work ."
   ]
  },
  {
   "cell_type": "code",
   "execution_count": 21,
   "metadata": {},
   "outputs": [],
   "source": [
    "def dict_to_list(d):\n",
    "    \"\"\"\n",
    "    This function will take input as a dict and give me out as a list of all the values \n",
    "    even in case of 2 level nesting it should work.\n",
    "    \"\"\"\n",
    "    l=[]\n",
    "    if type(d) == dict:\n",
    "        for i in d.values():\n",
    "            #print(f\"Value: {i}\")\n",
    "            if type(i) == dict:\n",
    "                for j in i.values():\n",
    "                    l.append(j)\n",
    "            else:\n",
    "                l.append(i)\n",
    "        return l\n",
    "    else:\n",
    "        return \"Please enter dictionary as an argument\""
   ]
  },
  {
   "cell_type": "code",
   "execution_count": 22,
   "metadata": {},
   "outputs": [
    {
     "data": {
      "text/plain": [
       "[[1, 2, 3, 4, 4, 33, 3344, 9], 'ss', 4.5, 5, (5+7j)]"
      ]
     },
     "execution_count": 22,
     "metadata": {},
     "output_type": "execute_result"
    }
   ],
   "source": [
    "dict_to_list({'key1':[1,2,3,4,4,33,3344,9],'Key2':{'key21':'ss','key22':4.5},'key3':5,'key4':5+7j})"
   ]
  },
  {
   "cell_type": "markdown",
   "metadata": {},
   "source": [
    "### 4 . write a fun which will take another function as an input and return me an output "
   ]
  },
  {
   "cell_type": "code",
   "execution_count": 28,
   "metadata": {},
   "outputs": [],
   "source": [
    "def inside_function(s):\n",
    "    return \"inside \" + str(s) + \" inside\""
   ]
  },
  {
   "cell_type": "code",
   "execution_count": 36,
   "metadata": {},
   "outputs": [],
   "source": [
    "def outside_function(f):\n",
    "    \"\"\"\n",
    "    Takes another function as an input and return an output\n",
    "    \"\"\"\n",
    "    st = input('Enter anything: ')\n",
    "    return \"outside \" + f(st) + \" outside\""
   ]
  },
  {
   "cell_type": "code",
   "execution_count": 37,
   "metadata": {},
   "outputs": [
    {
     "name": "stdout",
     "output_type": "stream",
     "text": [
      "Enter anything: Passing user data\n"
     ]
    },
    {
     "data": {
      "text/plain": [
       "'outside inside Passing user data inside outside'"
      ]
     },
     "execution_count": 37,
     "metadata": {},
     "output_type": "execute_result"
    }
   ],
   "source": [
    "outside_function(inside_function)"
   ]
  },
  {
   "cell_type": "markdown",
   "metadata": {},
   "source": [
    "### 5. write a function whihc will take multiple list as a input and give me concatnation of all the element as and output "
   ]
  },
  {
   "cell_type": "code",
   "execution_count": 38,
   "metadata": {},
   "outputs": [],
   "source": [
    "def concate_list(*args):\n",
    "    \"\"\"\n",
    "    Take multiple lists as an input and concate all the elements\n",
    "    \"\"\"\n",
    "    l=[]\n",
    "    for i in args:\n",
    "        if type(i) == list:\n",
    "            l.extend(i)\n",
    "    return l"
   ]
  },
  {
   "cell_type": "code",
   "execution_count": 39,
   "metadata": {},
   "outputs": [
    {
     "data": {
      "text/plain": [
       "[1, 2, 3, 4, 5, 7, 8, 9, 0, 11, 34, 56, 78]"
      ]
     },
     "execution_count": 39,
     "metadata": {},
     "output_type": "execute_result"
    }
   ],
   "source": [
    "concate_list([1,2,3,4,5],6,[7,8,9,0],2.5,[11,34,56,78])"
   ]
  },
  {
   "cell_type": "markdown",
   "metadata": {},
   "source": [
    "### 6 . write a function which will be able to take a list as an input return an index of each element like a inbuilt index function but even if we have repetative element it should return index "
   ]
  },
  {
   "cell_type": "code",
   "execution_count": 43,
   "metadata": {},
   "outputs": [],
   "source": [
    "def list_index(l):\n",
    "    \"\"\"\n",
    "    Take a list as an input return an index of each element like a inbuilt index function \n",
    "    but even if we have repetative element it should return index\n",
    "    \"\"\"\n",
    "    if type(l) == list:\n",
    "        d = {}\n",
    "        for i,j in enumerate(l):\n",
    "            if j in d.keys():\n",
    "                d[j].append(i)\n",
    "            else:\n",
    "                d[j]=[i]\n",
    "        return d\n",
    "    else:\n",
    "        return \"Please enter list as an argument\"   "
   ]
  },
  {
   "cell_type": "code",
   "execution_count": 45,
   "metadata": {},
   "outputs": [
    {
     "data": {
      "text/plain": [
       "{1: [0],\n",
       " 2: [1],\n",
       " 3: [2, 13],\n",
       " 4: [3, 14],\n",
       " 5: [4, 15],\n",
       " 6: [5, 16],\n",
       " 7: [6, 17],\n",
       " 's': [7, 19],\n",
       " 8: [8, 18],\n",
       " 9: [9],\n",
       " 0: [10],\n",
       " 2.5: [11],\n",
       " 11: [12]}"
      ]
     },
     "execution_count": 45,
     "metadata": {},
     "output_type": "execute_result"
    }
   ],
   "source": [
    "list_index([1,2,3,4,5,6,7,'s',8,9,0,2.5,11,3,4,5,6,7,8,'s'])"
   ]
  },
  {
   "cell_type": "markdown",
   "metadata": {},
   "source": [
    "### 7 . Write a function which will whould return list of all the file name from a directory ."
   ]
  },
  {
   "cell_type": "code",
   "execution_count": 72,
   "metadata": {},
   "outputs": [],
   "source": [
    "import os\n",
    "def file_list(dir_path):\n",
    "    \"\"\"\n",
    "    This function returns list of all the file names from a directory\n",
    "    \"\"\"\n",
    "    if os.path.exists(dir_path):\n",
    "        l = []\n",
    "        for f in os.listdir(dir_path):\n",
    "            #print(f)\n",
    "            if os.path.isfile(os.path.join(dir_path,f)):\n",
    "                l.append(f)\n",
    "        return l\n",
    "    else:\n",
    "        return \"Please enter correct path as an argument\""
   ]
  },
  {
   "cell_type": "code",
   "execution_count": 73,
   "metadata": {},
   "outputs": [
    {
     "data": {
      "text/plain": [
       "'Please enter correct path as an argument'"
      ]
     },
     "execution_count": 73,
     "metadata": {},
     "output_type": "execute_result"
    }
   ],
   "source": [
    "file_list('C:\\\\Users\\\\pallavi.saxena\\\\Download')"
   ]
  },
  {
   "cell_type": "code",
   "execution_count": 74,
   "metadata": {},
   "outputs": [
    {
     "data": {
      "text/plain": [
       "['0001019890002880541_07072021_07272021.PDF',\n",
       " '0001019890002880541_08072021_08272021.PDF',\n",
       " '0001019890002880541_10072021_10272021.PDF',\n",
       " '0001019890002880541_11072021_11272021.PDF',\n",
       " '0001019890002880541_12072021_12272021.PDF',\n",
       " '00099_AvaTaxAccount_CreateTable_CountryOfManufacture.sql',\n",
       " '008_AvaTaxAccount_NexusTaxTypeGroup1703Fix_Jan2022.sql',\n",
       " '01_AvaTaxAccount_AttributeExpression_Nov2020_UW2PRDSQL-WV67.txt',\n",
       " '01_AvaTaxAccount_AttributeExpression_Nov2020_UW2PRDSQL-WV68.txt',\n",
       " '01_AvaTaxAccount_AttributeExpression_Nov2020_UW2PRDSQL-WV72.txt',\n",
       " '02_AvaTaxAccount_AttributeExpressionParameterDetail_Nov2020_UW2PRDSQL-WV67.txt',\n",
       " '02_AvaTaxAccount_LC_System_Country_August2020.txt',\n",
       " '03_AvaTaxAccount_ExistingSystem_TaxRuleProductDetailExpire_August2020.txt',\n",
       " '03_AvaTaxAccount_TaxTypeMappingUpdates_Jan2021_UW2PRDSQL-WV67.txt',\n",
       " '106-153489-006 (1).pdf',\n",
       " '106-153489-006 (2).pdf',\n",
       " '106-153489-006 (3).pdf',\n",
       " '106-153489-006.pdf',\n",
       " '123.pdf',\n",
       " '123_AvaTaxUS_TaxRateUpdates_Nov2021.sql',\n",
       " '123_Rollback_AvaTaxUS_TaxRateUpdates_Nov2021.sql',\n",
       " '129892054(1).pdf',\n",
       " '1366.zip',\n",
       " '14_AvaTaxAccount_ParameterBagMaster_Feb2021.sql',\n",
       " '14_Rollback_AvaTaxAccount_ParameterBagMasterRollback_Feb2021.sql',\n",
       " '175539091.pdf',\n",
       " '1f324036-4624-4314-9802-401d588dfbe6.zip',\n",
       " '2-CTP-23621 Rules Template_Alabama STH_Part 1_v1.csv',\n",
       " '200_AvaTaxAccount_UpdateProc_ProcPopulateParameterUsageMap.sql',\n",
       " '200_Rollback_AvaTaxAccount_UpdateProc_ProcPopulateParameterUsageMap.sql',\n",
       " '201_AvaTaxAccount_DataUpdate_ParameterusageMap.sql',\n",
       " '2021072489.pdf',\n",
       " '220545546.pdf',\n",
       " '251_AvaTaxAccount_Verification_Previous.sql.txt',\n",
       " '269499447.pdf',\n",
       " '310181346644_247000183418_20210212.pdf',\n",
       " '317134539_May.pdf',\n",
       " '33_AvaTaxGlobal_NorthernIrelandUpdates_Jan2021.sql',\n",
       " '41804278.pdf',\n",
       " '419115523julybill.pdf',\n",
       " '4346XXXXXXXXXX91_07-08-2021.PDF',\n",
       " '4375XXXXXXXX6003_285467_Retail_Coral_NORM.pdf',\n",
       " '4639XXXXXXXXXX46_07-08-2021.PDF',\n",
       " '467718419.pdf',\n",
       " '48a2fa76-9dce-4d96-8f53-8a362e6baab8.ics',\n",
       " '516844836.pdf',\n",
       " '51_AvaTaxAccount_TaxRuleExpire_November2021.sql',\n",
       " '51_Rollback_AvaTaxAccount_TaxRuleExpire_November2021.sql',\n",
       " '52_AvaTaxAccount_Update_AttributeExpression.sql',\n",
       " '52_Rollback_AvaTaxAccount_Update_AttributeExpression.sql',\n",
       " '53039533_1627537844840.xls',\n",
       " '53039533_1636515919072.pdf',\n",
       " '53039533_1637578679776.pdf',\n",
       " '53039533_1637578786554.pdf',\n",
       " '53039533_1637578937623.pdf',\n",
       " '545755595.pdf',\n",
       " '568595174.pdf',\n",
       " '61_AvaTaxAccount_DataUpdate_AttributeExpression_November2021.sql',\n",
       " '61_Rollback_AvaTaxAccount_DataUpdate_AttributeExpression_November2021.sql',\n",
       " '6242390_REPAYMENT.pdf',\n",
       " '6242390_REPAYMENT_v2.pdf',\n",
       " '625969109.pdf',\n",
       " '71_AvaTaxAccount_TaxRule_NY_Fix_Aug2021.sql',\n",
       " '72_AvaTaxUS_TaxTypeMapping_Fix_Aug2021.sql',\n",
       " '73_AvaTaxAccount_TaxTypeMapping_Fix_Aug2021.sql',\n",
       " '79_AvaTaxUS_SetDBVersion_ECU_Dec2020_UW2PRDSQL-WV69.txt',\n",
       " '85194782.pdf',\n",
       " 'A-102,dreams lyeenea.pdf',\n",
       " 'ACM-POC.pem',\n",
       " 'Adarsh_Dev_EC2.pem',\n",
       " 'aiml_online_brochure.pdf',\n",
       " 'AirProbe_Coding_Round_1.pdf',\n",
       " 'ALL_ZERO_PADDING_AND_DESCRIPTION_RESULTS_20200810201309.txt',\n",
       " 'ALL_ZERO_PADDING_AND_DESCRIPTION_RESULTS_20200810201636.txt',\n",
       " 'AmazonFileDownloader.zip',\n",
       " 'Analysis__With_paranthesis_and _NULL MANITOBA__Ewaste.xml',\n",
       " 'ARKANSAS__Alcohol__NOParameter__TestCse43.xml',\n",
       " 'ARKANSAS__Alcohol__NOParameter__TestCse45.xml',\n",
       " 'AttributeExpressionSQLs.zip',\n",
       " 'Automation_demo.zip',\n",
       " 'AvaTaxUSIntegrationtTestForExcelGeneration.zip',\n",
       " 'aws_key.pem',\n",
       " 'aws_private_key.ppk',\n",
       " 'BBM-API.pdf',\n",
       " 'Binder1.html',\n",
       " 'Binder1.pdf',\n",
       " 'bootscript.sh',\n",
       " 'boundary-build.model (1).js',\n",
       " 'boundary-build.model.js',\n",
       " 'Brexit-Expression.zip',\n",
       " 'BROADBAND BILL 2021-2022.pdf',\n",
       " 'Brochure- Bootcamp 4.pdf',\n",
       " 'Cab_Patna_to_Kharagpur.pdf',\n",
       " 'CAROL STREAM_alcohol_attribute.xml',\n",
       " 'ClassificationQuery.sql',\n",
       " 'CLMN.json',\n",
       " 'Compensation_Change__Pallavi_Saxena_(13247)_-__Senior_Software_Engineer.pdf',\n",
       " 'Compensation_Details.pdf',\n",
       " 'content.htm',\n",
       " 'ContentCentral.postman_collection.json',\n",
       " 'CountryOfManufactureTemplate (1).zip',\n",
       " 'CountryOfManufactureTemplate.zip',\n",
       " 'CountryOfManufactureTemplate_CTCW.xlsx',\n",
       " 'CRN4927623834_OLA.pdf',\n",
       " 'crossborder-tools-master.zip',\n",
       " 'csg-participant-restricted-stock.pdf',\n",
       " 'CTBM.json',\n",
       " 'CTCL kt.layoutx',\n",
       " 'CTMA1_head.layoutx',\n",
       " 'CTMX.SSIS_Templates.zip',\n",
       " 'CTP-23621 Rules Template_Alabama STH_Part 3_v1.csv',\n",
       " 'CTPM1-Correct.layoutx',\n",
       " 'CTPM2.layoutx',\n",
       " 'd2l-en_dive into ai.pdf',\n",
       " 'Dashboard.vue',\n",
       " 'DatabaseQuery.py',\n",
       " 'Datasets for Data Science.pdf',\n",
       " 'Dell-BoomiDeveloper_VivekChoudhary.pdf',\n",
       " 'Demo_notin.xlsx',\n",
       " 'Deploy #4.zip',\n",
       " 'desktop.ini',\n",
       " 'Develop excellent Negotiation Skills by Rahul Bhatnagar.pdf',\n",
       " 'Developer Blog - project overview v2.pptx',\n",
       " 'DominozNitin.pdf',\n",
       " 'Downloads.zip',\n",
       " 'DrPrescription.pdf',\n",
       " 'DS-roadmap-1-2.pdf',\n",
       " 'elementarystatistics13thedition-mariof-180809045733.pdf',\n",
       " 'Elss_7038889139_1610795621567.pdf',\n",
       " 'email-classification.zip',\n",
       " 'epp550_3581_64bit.exe',\n",
       " 'ESS Instructions  Investment Proof Submission - FY 20-21.pptx',\n",
       " 'EU-VAT_ParameterBagMasterScripts.zip',\n",
       " 'final template.zip',\n",
       " 'Final-Verification Script -Check.zip',\n",
       " 'FinalChanges(CB_Brexit).zip',\n",
       " 'generated (1).pdf',\n",
       " 'generated (2).pdf',\n",
       " 'generated.pdf',\n",
       " 'Gettax0.csv',\n",
       " 'Git-2.28.0-64-bit.exe',\n",
       " 'GitHubDesktopSetup.exe',\n",
       " 'Gmail - Fwd_ GoFirst ItineraryETicket.pdf',\n",
       " 'Go First _ Airline Tickets and Fares - Boarding Pass.pdf',\n",
       " 'GoFirst_BoardingPass_PNR BCP3KK - 05 Dec 2021 Delhi - Pune for Ms. Pallavi Saxena.pdf',\n",
       " 'GoFirst_BoardingPass_PNR BCP3KK - 05 Dec 2021 Patna - Delhi for Ms. Pallavi Saxena.pdf',\n",
       " 'GoFirst_MobileBoardingPass_PNR BCP3KK - 05 Dec 2021 Delhi - Pune for Ms. Pallavi Saxena.png',\n",
       " 'GoFirst_MobileBoardingPass_PNR BCP3KK - 05 Dec 2021 Patna - Delhi for Ms. Pallavi Saxena.png',\n",
       " 'Guidelines for Investment Proof Submission - FY 2020-21.pdf',\n",
       " 'Gym bill 2021.pdf',\n",
       " 'Holiday List - 2021 (Pune, Chennai & Hyderabad).pdf',\n",
       " 'how_is_the_interest_calculated.pdf',\n",
       " 'HS_MasterTemplate_CTCA (1).xlsx',\n",
       " 'HS_MasterTemplate_CTCA.xlsx',\n",
       " 'IBM Certified Artificial Intelligence Certification _ Learnbay.pdf',\n",
       " 'image (1).png',\n",
       " 'image (2).png',\n",
       " 'image (3).png',\n",
       " 'image (4).png',\n",
       " 'image (5).png',\n",
       " 'image (6).png',\n",
       " 'image (7).png',\n",
       " 'image (8).png',\n",
       " 'Image from iOS.jpg',\n",
       " 'image.png',\n",
       " 'India GST Deployment Build_Comparision.txt',\n",
       " 'IndiaGST-State-RollBack.sql',\n",
       " 'IndiaGST-State-Update.sql',\n",
       " 'intra-1-0qmq-pdf-elementary-statistics-13th-edition-by-mario-f-triola.pdf',\n",
       " 'Invoice Gym aug-sep.pdf',\n",
       " 'Invoice Gym oct-mar (1).pdf',\n",
       " 'Invoice Gym oct-mar.pdf',\n",
       " 'invoice internet aug-sep.pdf',\n",
       " 'invoice internet oct-mar.pdf',\n",
       " 'IsReseller IS NULL OR IsReseller _ FALSE.xml',\n",
       " 'LandedCostDeminimisTemplate.txt',\n",
       " 'LandedCostDeminimisTemplate.xlsx',\n",
       " 'LandedCostDeminimisTemplate_Consolidated.xlsx',\n",
       " 'Latitude_7X00_1.10.1.exe',\n",
       " 'LEAD_inspire_others.mp4',\n",
       " 'Learn_Data_Analysis_with_Python_Lessons.pdf',\n",
       " 'main.py',\n",
       " 'Marvel-Phase-4-Slate-May-2021-550x268.jpg',\n",
       " 'ML+Data+Science+Syllabus.pdf',\n",
       " 'MobileBillAugust.pdf',\n",
       " 'MobileJulyBill.pdf',\n",
       " 'ms4w-4.0.5-setup.exe',\n",
       " 'MultitaxRateTemplate.xlsx',\n",
       " 'MultitaxRuleTemplate (1).xlsx',\n",
       " 'MultitaxRuleTemplate.xlsx',\n",
       " 'MultitaxRuleTemplate2.xlsx',\n",
       " 'MultitaxRuleTemplateOutput.xlsx',\n",
       " 'MutiTax.zip',\n",
       " 'National Pension System (NPS) -7th Feb 2019.pdf',\n",
       " 'NetBanking Registration.pdf',\n",
       " 'New Tab.html',\n",
       " 'NoParameter_August2020.xlsx',\n",
       " 'NoParameter_August2020_output (1).csv',\n",
       " 'NoParameter_August2020_output (1).xlsx',\n",
       " 'NoParameter_August2020_output.csv',\n",
       " 'NoParameter_August2020_output.xlsx',\n",
       " 'NPS2021_Investment_Payment_Receipt.pdf',\n",
       " 'OctoberMobile.pdf',\n",
       " 'OneParameter_August2020.xlsx',\n",
       " 'OneParameter_August2020_output (1).csv',\n",
       " 'OneParameter_August2020_output.csv',\n",
       " 'OneParameter_August2020_output.xlsx',\n",
       " 'OpTransactionHistory06-08-2021ICICI.pdf',\n",
       " 'OR_Condition.zip',\n",
       " 'Pallavi.zip',\n",
       " 'Pallavi_RentAgreement.pdf',\n",
       " 'Pallavi_Saxena_SelfEvaluation_PE 2020.xls',\n",
       " 'Pallavi_Saxena_SelfEvaluation_PE 2020_1.xls',\n",
       " 'Passenger_Declaration_Form.pdf',\n",
       " 'path.png',\n",
       " 'pathways.pdf',\n",
       " 'PCAI-2020-ai.pdf',\n",
       " 'PDFen.pdf',\n",
       " 'PopulateGetTaxRequest_And (1).zip',\n",
       " 'PopulateGetTaxRequest_And (2).zip',\n",
       " 'PopulateGetTaxRequest_And.zip',\n",
       " 'postgresql-42.2.23.jar',\n",
       " 'Postman-win64-7.26.0-Setup.exe',\n",
       " 'Post_Deployment_OR_Rollback_3_251_AvaTaxAccount_Verification.sql.txt',\n",
       " 'POS_Scripts_16Dec_Release.zip',\n",
       " 'PRAN_Pallavi.pdf',\n",
       " 'PreCheck (1).sql',\n",
       " 'precheck.sql',\n",
       " 'ProcPopulateParameterUsageMap.sql',\n",
       " 'Projects- BlackBelt+.pdf',\n",
       " 'putty-64bit-0.74-installer.msi',\n",
       " 'Python_for_Data_Analysis.pdf',\n",
       " 'Py_ETL.zip',\n",
       " 'raterule.jmx',\n",
       " 'ReleaseMonthTaxRates_Updated.jmx',\n",
       " 'ReleaseMonthTaxRules_Phase1Final_07092020.jmx',\n",
       " 'ReleaseMonthTaxRules_Updated (1).jmx',\n",
       " 'ReleaseMonthTaxRules_Updated.jmx',\n",
       " 'ReleaseMonthTaxRules_v2_AND_15092020_2_1.jmx',\n",
       " 'RentRecipt.pdf',\n",
       " 'Results-TaxRules-20200819-100022.zip',\n",
       " 'Rollback_Validation.sql',\n",
       " 'RunMyScripts.bat',\n",
       " 'RunMyScriptsFQA.bat',\n",
       " 'RunMyScriptsQA.bat',\n",
       " 'Screenshot 2021-09-28 185339.png',\n",
       " 'send.zip',\n",
       " 'Skin and Hair Care - MYTHS DEBUNKED.ics',\n",
       " 'SQL.zip',\n",
       " 'SQLQuery2.sql',\n",
       " 'Steps_to_enable_cookies.doc',\n",
       " 'Supporting Forms.zip',\n",
       " 'swagger.yaml',\n",
       " 'Syllabus (AI & ML BlackBelt+ Program).pdf',\n",
       " 'TapScanner 01-19-2021-19.17.pdf',\n",
       " 'TapScanner 01-19-2021-19.24.pdf',\n",
       " 'Taric.zip',\n",
       " 'TARIFCEMACSH2017.pdf',\n",
       " 'Tax2019Nov.pdf',\n",
       " 'TaxRuleAlreadyExists.xlsx',\n",
       " 'TaxRuleProductDetailTemplate_CTBZ1.xlsx',\n",
       " 'TaxRuleProductDetailTemplate_CTCU.txt',\n",
       " 'TaxRuleProductDetailTemplate_ITPA.xlsx',\n",
       " 'TaxRuleTemplate_CTBZ.xlsx',\n",
       " 'TaxRuleTemplate_CTCU.txt',\n",
       " 'TaxRuleTemplate_ITPA.xlsx',\n",
       " 'TaxRule_compare.py',\n",
       " 'TestHarness Setup_setup.exe',\n",
       " 'TestHarness Setup_Test Harness Setup.msi',\n",
       " 'TestScript.sql',\n",
       " 'ticket.pdf',\n",
       " 'TicketSannu.pdf',\n",
       " 'TICKET_30092020.pdf',\n",
       " 'TSNZ.rawdeltaDB.xlsx.zip',\n",
       " 'TSNZ.SSIS_Templates.zip',\n",
       " 'Twisted-18.9.0-cp34-cp34m-win32.whl',\n",
       " 'TwoParameter_August2020.xlsx',\n",
       " 'TwoParameter_August2020_output (1).csv',\n",
       " 'TwoParameter_August2020_output (2).csv',\n",
       " 'TwoParameter_August2020_output.csv',\n",
       " 'TwoParameter_August2020_output.xlsx',\n",
       " 'UW2PRDSQL-WV55.zip',\n",
       " 'ValidateTaxRuleProductDetailTemplate.sql',\n",
       " 'Validation.sql',\n",
       " 'ValidationQuery.sql',\n",
       " 'Verification Script -Check.zip',\n",
       " 'View Examination Form-II_Supriya.pdf',\n",
       " 'WASHTENAW__lodging__lodging__.xml',\n",
       " 'webinar-97062274110.ics',\n",
       " 'webinar-97274416717.ics',\n",
       " 'Workplace_Harassment_Policy-Intl.pdf',\n",
       " 'xml.zip',\n",
       " 'yarn-1.22.5.msi',\n",
       " 'zoom_0_KanishkPython3EnvCreated.mp4',\n",
       " '__ BillDesk Payment Gateway __.pdf',\n",
       " '__ BillDesk Payment Gateway __10.pdf',\n",
       " '__ BillDesk Payment Gateway __24072021.pdf']"
      ]
     },
     "execution_count": 74,
     "metadata": {},
     "output_type": "execute_result"
    }
   ],
   "source": [
    "file_list('C:\\\\Users\\\\pallavi.saxena\\\\Downloads')"
   ]
  },
  {
   "cell_type": "markdown",
   "metadata": {},
   "source": [
    "### 8  . write a function which will be able to show your system configuration "
   ]
  },
  {
   "cell_type": "code",
   "execution_count": 85,
   "metadata": {},
   "outputs": [],
   "source": [
    "import platform,socket,re,psutil,uuid\n",
    "def sys_config():\n",
    "    \"\"\"\n",
    "    This function displays my system configuration\n",
    "    \"\"\"\n",
    "    info={}\n",
    "    uname = platform.uname()\n",
    "    info['platform']=platform.system()\n",
    "    info['platform-release']=platform.release()\n",
    "    info['platform-version']=platform.version()\n",
    "    info['processor']=uname.processor\n",
    "    info['architecture']=platform.machine()\n",
    "    info['hostname']=socket.gethostname()\n",
    "    info['ip-address']=socket.gethostbyname(socket.gethostname())\n",
    "    info['mac-address']=':'.join(re.findall('..', '%012x' % uuid.getnode()))\n",
    "    info['processor']=platform.processor()\n",
    "    info['ram']=str(round(psutil.virtual_memory().total / (1024.0 **3)))+\" GB\"\n",
    "    return info"
   ]
  },
  {
   "cell_type": "code",
   "execution_count": 81,
   "metadata": {},
   "outputs": [
    {
     "data": {
      "text/plain": [
       "{'platform': 'Windows',\n",
       " 'platform-release': '10',\n",
       " 'platform-version': '10.0.19041',\n",
       " 'processor': 'Intel64 Family 6 Model 142 Stepping 12, GenuineIntel',\n",
       " 'architecture': 'AMD64',\n",
       " 'hostname': 'AV-L7300-820',\n",
       " 'ip-address': '10.10.12.23',\n",
       " 'mac-address': 'b3:02:c1:2b:49:74',\n",
       " 'ram': '16 GB'}"
      ]
     },
     "execution_count": 81,
     "metadata": {},
     "output_type": "execute_result"
    }
   ],
   "source": [
    "sys_config()"
   ]
  },
  {
   "cell_type": "markdown",
   "metadata": {},
   "source": [
    "### 9 . write a function which will be able to show date and time "
   ]
  },
  {
   "cell_type": "code",
   "execution_count": 30,
   "metadata": {},
   "outputs": [],
   "source": [
    "def todays_datetime():\n",
    "    \"\"\"\n",
    "    This function will be able to show date and time\n",
    "    \"\"\"\n",
    "    import datetime\n",
    "    tday = datetime.datetime.now()\n",
    "    tday_format = tday.strftime(\"%m-%d-%Y, %H:%M:%S\")\n",
    "    return tday_format"
   ]
  },
  {
   "cell_type": "code",
   "execution_count": 31,
   "metadata": {},
   "outputs": [
    {
     "data": {
      "text/plain": [
       "'01-01-2022, 15:39:15'"
      ]
     },
     "execution_count": 31,
     "metadata": {},
     "output_type": "execute_result"
    }
   ],
   "source": [
    "todays_datetime()"
   ]
  },
  {
   "cell_type": "markdown",
   "metadata": {},
   "source": [
    "### 10 . write a function whihc will be able to read a image file and show it to you ."
   ]
  },
  {
   "cell_type": "code",
   "execution_count": 83,
   "metadata": {
    "collapsed": true
   },
   "outputs": [
    {
     "name": "stdout",
     "output_type": "stream",
     "text": [
      "Collecting opencv-python\n",
      "  Downloading opencv_python-4.5.5.62-cp36-abi3-win_amd64.whl (35.4 MB)\n",
      "Requirement already satisfied: numpy>=1.14.5 in c:\\users\\pallavi.saxena\\anaconda3\\lib\\site-packages (from opencv-python) (1.19.5)\n",
      "Installing collected packages: opencv-python\n",
      "Successfully installed opencv-python-4.5.5.62\n"
     ]
    },
    {
     "name": "stderr",
     "output_type": "stream",
     "text": [
      "WARNING: Ignoring invalid distribution -umpy (c:\\users\\pallavi.saxena\\anaconda3\\lib\\site-packages)\n",
      "WARNING: Ignoring invalid distribution -umpy (c:\\users\\pallavi.saxena\\anaconda3\\lib\\site-packages)\n",
      "WARNING: Ignoring invalid distribution -umpy (c:\\users\\pallavi.saxena\\anaconda3\\lib\\site-packages)\n",
      "WARNING: Ignoring invalid distribution -umpy (c:\\users\\pallavi.saxena\\anaconda3\\lib\\site-packages)\n",
      "WARNING: Ignoring invalid distribution -umpy (c:\\users\\pallavi.saxena\\anaconda3\\lib\\site-packages)\n",
      "WARNING: Ignoring invalid distribution -umpy (c:\\users\\pallavi.saxena\\anaconda3\\lib\\site-packages)\n"
     ]
    }
   ],
   "source": [
    "!pip install opencv-python"
   ]
  },
  {
   "cell_type": "code",
   "execution_count": 102,
   "metadata": {},
   "outputs": [],
   "source": [
    "import cv2, filetype, os\n",
    "def img_reader(dir_path,img_file):\n",
    "    \"\"\"\n",
    "    This functions reads and shows image file\n",
    "    \"\"\"\n",
    "    c_path = os.path.join(dir_path,img_file)\n",
    "    if os.path.exists(c_path):\n",
    "        if filetype.is_image(c_path):\n",
    "            img = cv2.imread(c_path) \n",
    "            cv2.imshow('image', img)\n",
    "            cv2.waitKey(0) \n",
    "            cv2.destroyAllWindows() \n",
    "        else:\n",
    "            print(\"Please enter correct file as an argument\")\n",
    "    else:\n",
    "        print(\"Please enter correct path as an argument\")"
   ]
  },
  {
   "cell_type": "code",
   "execution_count": 103,
   "metadata": {},
   "outputs": [],
   "source": [
    "d=''\n",
    "f=\"Elephant.JPG\"\n",
    "img_reader(d,f)"
   ]
  },
  {
   "cell_type": "code",
   "execution_count": 104,
   "metadata": {},
   "outputs": [
    {
     "name": "stdout",
     "output_type": "stream",
     "text": [
      "Please enter correct path as an argument\n"
     ]
    }
   ],
   "source": [
    "d='a'\n",
    "f=\"Elephant.JPG\"\n",
    "img_reader(d,f)"
   ]
  },
  {
   "cell_type": "code",
   "execution_count": 105,
   "metadata": {},
   "outputs": [
    {
     "name": "stdout",
     "output_type": "stream",
     "text": [
      "Please enter correct path as an argument\n"
     ]
    }
   ],
   "source": [
    "d=''\n",
    "f=\"Elephant1.JPG\"\n",
    "img_reader(d,f)"
   ]
  },
  {
   "cell_type": "markdown",
   "metadata": {},
   "source": [
    "### 11 . write a function which can read video file and play for you ."
   ]
  },
  {
   "cell_type": "code",
   "execution_count": 106,
   "metadata": {},
   "outputs": [],
   "source": [
    "import cv2, filetype, os\n",
    "def video_player(dir_path,v_file):\n",
    "    \"\"\"\n",
    "    This functions reads and play video file\n",
    "    \"\"\"\n",
    "    c_path = os.path.join(dir_path,v_file)\n",
    "    if os.path.exists(c_path):\n",
    "        if filetype.is_video(c_path):\n",
    "            print(2,c_path)\n",
    "            cap = cv2.VideoCapture(c_path) \n",
    "            if (cap.isOpened()== False): \n",
    "                print(\"Error opening video  file\")\n",
    "            while(cap.isOpened()):      \n",
    "                # Capture frame-by-frame\n",
    "                ret, frame = cap.read()\n",
    "                if ret == True:\n",
    "                    # Display the resulting frame\n",
    "                    cv2.imshow('Frame', frame)\n",
    "                    # Press Q on keyboard to  exit\n",
    "                    if cv2.waitKey(25) & 0xFF == ord('q'):\n",
    "                        break\n",
    "                else: \n",
    "                    break\n",
    "        else:\n",
    "            print(\"Please enter correct file as an argument\")\n",
    "    else:\n",
    "        print(\"Please enter correct path as an argument\")"
   ]
  },
  {
   "cell_type": "code",
   "execution_count": 107,
   "metadata": {},
   "outputs": [
    {
     "name": "stdout",
     "output_type": "stream",
     "text": [
      "5th_Dec.mp4\n",
      "1 5th_Dec.mp4\n",
      "2 5th_Dec.mp4\n"
     ]
    }
   ],
   "source": [
    "d=''\n",
    "f=\"5th_Dec.mp4\"\n",
    "video_player(d,f)"
   ]
  },
  {
   "cell_type": "code",
   "execution_count": 99,
   "metadata": {},
   "outputs": [
    {
     "data": {
      "text/plain": [
       "True"
      ]
     },
     "execution_count": 99,
     "metadata": {},
     "output_type": "execute_result"
    }
   ],
   "source": [
    "os.path.exists(\"5th_Dec.mp4\")"
   ]
  },
  {
   "cell_type": "markdown",
   "metadata": {},
   "source": [
    "### 12  . write a function whihc can move a file from one directory to another directory ."
   ]
  },
  {
   "cell_type": "code",
   "execution_count": 1,
   "metadata": {},
   "outputs": [],
   "source": [
    "import os,shutil\n",
    "def move_file(path1,path2):\n",
    "    \"\"\"\n",
    "    This function will move a file from one directory to another directory\n",
    "    \"\"\"\n",
    "    if os.path.isfile(path1) and os.path.exists(path2):\n",
    "        shutil.move(path1, path2)\n",
    "    else:\n",
    "        print(\"Please enter correct path as an argument\")"
   ]
  },
  {
   "cell_type": "code",
   "execution_count": 2,
   "metadata": {},
   "outputs": [],
   "source": [
    "move_file('BP.pdf',\"Task\")"
   ]
  },
  {
   "cell_type": "markdown",
   "metadata": {},
   "source": [
    "### 13 . write a function which will be able to shutdonw your system . "
   ]
  },
  {
   "cell_type": "code",
   "execution_count": 3,
   "metadata": {},
   "outputs": [],
   "source": [
    "import os\n",
    "def system_shutdown():\n",
    "    \"\"\"\n",
    "    This function will shutdown your system.\n",
    "    \"\"\"\n",
    "    shutdown = input(\"Do you wish to shutdown your computer ? (yes / no): \")  \n",
    "    if shutdown.lower() == 'no':\n",
    "        os.system(\"shutdown /s /t 1\")\n",
    "    else:      \n",
    "        exit()"
   ]
  },
  {
   "cell_type": "code",
   "execution_count": null,
   "metadata": {},
   "outputs": [],
   "source": [
    "system_shutdown()"
   ]
  },
  {
   "cell_type": "markdown",
   "metadata": {},
   "source": [
    "### 14 . write a function whihc will be able to access your mail ."
   ]
  },
  {
   "cell_type": "code",
   "execution_count": 14,
   "metadata": {},
   "outputs": [],
   "source": [
    "def access_mail(mailid,passwd,no_of_mails=100):\n",
    "    \"\"\"\n",
    "    This function will be able to access your mail.\n",
    "    \"\"\"\n",
    "    import imaplib,email\n",
    "    host = 'imap.gmail.com'\n",
    "    port=993\n",
    "    mail=imaplib.IMAP4_SSL(host,port)\n",
    "    mail.login(mailid,passwd)\n",
    "    mail.select('inbox')\n",
    "    data=mail.search(None,'ALL')\n",
    "    id_list=data[1][0].split()\n",
    "    first_msg=int(id_list[0])\n",
    "    latest_msg=int(id_list[-1])\n",
    "    \n",
    "    for index,i in enumerate(range(latest_msg,first_msg,-1)):\n",
    "        data=mail.fetch(str(i),'(RFC822)')\n",
    "        for response_part in data:\n",
    "            arr = response_part[0]\n",
    "            if isinstance(arr,tuple):\n",
    "                msg = email.message_from_string(str(arr[1],'utf-8'))\n",
    "                print(msg.keys())\n",
    "                email_subject = msg['subject']\n",
    "                email_from=msg['from']\n",
    "                date=msg['Date']\n",
    "                content_type=msg['Content-Type']\n",
    "                print(f\"Date: {date}\")\n",
    "                print(f\"{index+1} From: {email_from}\")\n",
    "                print(f\"Subject: {email_subject}\")\n",
    "                print(f\"content type: {content_type}\")\n",
    "                print(\"-\"*100)\n",
    "            if index == no_of_mails:\n",
    "                break"
   ]
  },
  {
   "cell_type": "code",
   "execution_count": 15,
   "metadata": {},
   "outputs": [
    {
     "name": "stdout",
     "output_type": "stream",
     "text": [
      "['Delivered-To', 'Received', 'X-Google-Smtp-Source', 'X-Received', 'ARC-Seal', 'ARC-Message-Signature', 'ARC-Authentication-Results', 'Return-Path', 'Received', 'Received-SPF', 'Authentication-Results', 'Received', 'DKIM-Signature', 'Received', 'MIME-Version', 'X-Mailer', 'Subject', 'From', 'To', 'Reply-to', 'Message-ID', 'X-xsMessageId', 'X-xsMailingId', 'Date', 'Content-Type']\n",
      "Date: Thu, 06 Jan 2022 03:38:58 GMT\n",
      "1 From: <credit_cards@icicibank.com>\n",
      "Subject: ICICI Bank Credit Card Statement for the period  December 6 2021 to\n",
      " January 5 2022\n",
      "content type: multipart/mixed;\n",
      "\tboundary=\"--_=_NextPart_002_01C39C9D.5EAC49D8\"\n",
      "----------------------------------------------------------------------------------------------------\n",
      "['Delivered-To', 'Received', 'X-Received', 'ARC-Seal', 'ARC-Message-Signature', 'ARC-Authentication-Results', 'Return-Path', 'Received', 'Received-SPF', 'Authentication-Results', 'DKIM-Signature', 'X-Google-DKIM-Signature', 'X-Gm-Message-State', 'X-Google-Smtp-Source', 'MIME-Version', 'X-Received', 'Date', 'Reply-To', 'X-Google-Id', 'Feedback-ID', 'X-Notifications', 'X-Notifications-Bounce-Info', 'Message-ID', 'Subject', 'From', 'To', 'Content-Type']\n",
      "Date: Wed, 05 Jan 2022 19:19:06 -0800\n",
      "2 From: Google Developer Profile <googledev-noreply@google.com>\n",
      "Subject: Welcome to your Google Developer Profile!\n",
      "content type: multipart/alternative; boundary=\"0000000000003ee7d005d4e15524\"\n",
      "----------------------------------------------------------------------------------------------------\n",
      "['Delivered-To', 'Received', 'X-Google-Smtp-Source', 'X-Received', 'ARC-Seal', 'ARC-Message-Signature', 'ARC-Authentication-Results', 'Return-Path', 'Received', 'Received-SPF', 'Authentication-Results', 'DKIM-Signature', 'To', 'From', 'Reply-To', 'Subject', 'Message-ID', 'MIME-Version', 'Content-Type', 'Date']\n",
      "Date: Thu, 6 Jan 2022 06:47:47 +0530\n",
      "3 From: \"CRA\" <CRA@nsdl.co.in>\n",
      "Subject: Monthly Transaction Statement of your NPS account for the period 01-Dec-2021 TO 31-Dec-2021\n",
      "content type: multipart/mixed;\n",
      "\tboundary=\"b9_42ec9e65d880f17ae1f394ced2432ffb\"\n",
      "----------------------------------------------------------------------------------------------------\n",
      "['Delivered-To', 'Received', 'X-Google-Smtp-Source', 'X-Received', 'ARC-Seal', 'ARC-Message-Signature', 'ARC-Authentication-Results', 'Return-Path', 'Received', 'Received-SPF', 'Authentication-Results', 'DKIM-Signature', 'X-Google-DKIM-Signature', 'X-Gm-Message-State', 'MIME-Version', 'X-Received', 'Reply-To', 'Sender', 'Precedence', 'List-Unsubscribe', 'Message-ID', 'Date', 'Subject', 'From', 'To', 'Content-Type']\n",
      "Date: Wed, 05 Jan 2022 21:15:09 +0000\n",
      "4 From: Analytics Vidhya <noreply+feedproxy@google.com>\n",
      "Subject: =?UTF-8?Q?=E2=80=9CGlobal_AI_Leader_Fractal_Becomes_Unicorn_with_US=24?=\n",
      "\t=?UTF-8?Q?_360_Million_Investment_from_TPG=E2=80=9D_plus_9_more?=\n",
      "content type: multipart/alternative; boundary=\"000000000000ad9d3205d4dc3ffe\"\n",
      "----------------------------------------------------------------------------------------------------\n",
      "['Delivered-To', 'Received', 'X-Google-Smtp-Source', 'X-Received', 'ARC-Seal', 'ARC-Message-Signature', 'ARC-Authentication-Results', 'Return-Path', 'Received', 'Received-SPF', 'Authentication-Results', 'DKIM-Signature', 'DKIM-Signature', 'Received', 'Received', 'Content-Transfer-Encoding', 'Content-Type', 'Date', 'From', 'Mime-Version', 'Message-ID', 'Subject', 'Reply-To', 'X-Feedback-ID', 'X-SG-EID', 'X-SG-ID', 'To', 'X-Entity-ID']\n",
      "Date: Wed, 05 Jan 2022 21:14:07 +0000 (UTC)\n",
      "5 From: Glassdoor Jobs <noreply@glassdoor.com>\n",
      "Subject: Rs.2,244,000 for Senior Software Engineer in Pune, India\n",
      "content type: text/html; charset=iso-8859-1\n",
      "----------------------------------------------------------------------------------------------------\n",
      "['Delivered-To', 'Received', 'X-Google-Smtp-Source', 'X-Received', 'ARC-Seal', 'ARC-Message-Signature', 'ARC-Authentication-Results', 'Return-Path', 'Received', 'Received-SPF', 'Authentication-Results', 'DKIM-Signature', 'DKIM-Signature', 'To', 'Subject', 'Content-Type', 'Date', 'Feedback-ID', 'From', 'List-Id', 'List-Unsubscribe', 'List-Unsubscribe-Post', 'MIME-Version', 'Message-Id', 'Precedence', 'Reply-To', 'X-Csa-Complaints', 'X-Mailer', 'X-Mailin-Campaign', 'X-Mailin-Client', 'X-sib-id']\n",
      "Date: Wed, 05 Jan 2022 10:39:31 +0000\n",
      "6 From: Analytics Vidhya <connect@analyticsvidhya.com>\n",
      "Subject: Pay Us After Getting a JOB | Data Science Immersive Bootcamp | Few Seats Left\n",
      "content type: multipart/alternative; boundary=\"-------?=_38373-4567563218770\"\n",
      "----------------------------------------------------------------------------------------------------\n",
      "['Delivered-To', 'Received', 'X-Google-Smtp-Source', 'X-Received', 'ARC-Seal', 'ARC-Message-Signature', 'ARC-Authentication-Results', 'Return-Path', 'Received', 'Received-SPF', 'Authentication-Results', 'DKIM-Signature', 'DKIM-Signature', 'From', 'Date', 'Subject', 'Message-Id', 'To', 'Feedback-ID', 'emailidea-message-id', 'emailidea-contact-id', 'List-Unsubscribe', 'Reply-To', 'MIME-Version', 'Content-Type']\n",
      "Date: Sat, 01 Jan 2022 14:10:07 +0530\n",
      "7 From: VLCC INSTITUTE <jai.verma@vlccwellness.com>\n",
      "Subject: Rice for shine\n",
      "content type: multipart/alternative; boundary=\"=-VQGOZGHuM70yYxQgyh6leg==\"\n",
      "----------------------------------------------------------------------------------------------------\n",
      "['Delivered-To', 'Received', 'X-Google-Smtp-Source', 'X-Received', 'ARC-Seal', 'ARC-Message-Signature', 'ARC-Authentication-Results', 'Return-Path', 'Received', 'Received-SPF', 'Authentication-Results', 'DKIM-Signature', 'DKIM-Signature', 'Date', 'From', 'Reply-To', 'To', 'Message-ID', 'Subject', 'MIME-Version', 'Content-Type', 'Feedback-ID', 'X-SES-Outgoing']\n",
      "Date: Tue, 4 Jan 2022 20:22:59 +0000\n",
      "8 From: MongoDB Atlas <mongodb-atlas@mongodb.com>\n",
      "Subject: Your MongoDB Atlas M0 cluster has been automatically paused due to\n",
      " prolonged inactivity\n",
      "content type: multipart/alternative; \n",
      "\tboundary=\"----=_Part_168632_728360966.1641327779934\"\n",
      "----------------------------------------------------------------------------------------------------\n",
      "['Delivered-To', 'Received', 'X-Google-Smtp-Source', 'X-Received', 'ARC-Seal', 'ARC-Message-Signature', 'ARC-Authentication-Results', 'Return-Path', 'Received', 'Received-SPF', 'Authentication-Results', 'DKIM-Signature', 'DKIM-Signature', 'Date', 'From', 'Reply-To', 'To', 'Message-ID', 'Subject', 'MIME-Version', 'Content-Type', 'Feedback-ID', 'X-SES-Outgoing']\n",
      "Date: Tue, 4 Jan 2022 16:19:56 +0000\n",
      "9 From: MongoDB Atlas <mongodb-atlas@mongodb.com>\n",
      "Subject: Your MongoDB Atlas M0 cluster has been automatically paused due to\n",
      " prolonged inactivity\n",
      "content type: multipart/alternative; \n",
      "\tboundary=\"----=_Part_162438_1245167495.1641313196578\"\n",
      "----------------------------------------------------------------------------------------------------\n",
      "['Delivered-To', 'Received', 'X-Google-Smtp-Source', 'X-Received', 'ARC-Seal', 'ARC-Message-Signature', 'ARC-Authentication-Results', 'Return-Path', 'Received', 'Received-SPF', 'Authentication-Results', 'DKIM-Signature', 'X-Google-DKIM-Signature', 'X-Gm-Message-State', 'MIME-Version', 'X-Received', 'Reply-To', 'Sender', 'Precedence', 'List-Unsubscribe', 'Message-ID', 'Date', 'Subject', 'From', 'To', 'Content-Type']\n",
      "Date: Tue, 04 Jan 2022 15:44:50 +0000\n",
      "10 From: Analytics Vidhya <noreply+feedproxy@google.com>\n",
      "Subject: =?UTF-8?Q?=E2=80=9CAll_You_Need_to_Know_about_Recommendation_Systems?=\n",
      "\t=?UTF-8?Q?=E2=80=9D_plus_2_more?=\n",
      "content type: multipart/alternative; boundary=\"00000000000083e73b05d4c3840a\"\n",
      "----------------------------------------------------------------------------------------------------\n",
      "['Delivered-To', 'Received', 'X-Google-Smtp-Source', 'X-Received', 'ARC-Seal', 'ARC-Message-Signature', 'ARC-Authentication-Results', 'Return-Path', 'Received', 'Received-SPF', 'Authentication-Results', 'DKIM-Signature', 'DKIM-Signature', 'From', 'Reply-To', 'To', 'Message-ID', 'Subject', 'MIME-Version', 'Content-Type', 'Date', 'Feedback-ID', 'X-SES-Outgoing']\n",
      "Date: Tue, 4 Jan 2022 14:26:05 +0000\n",
      "11 From: Paytm Money <alerts@paytmmoney.com>\n",
      "Subject: Your Tax Saving ELSS Statement is here\n",
      "content type: multipart/mixed; \n",
      "\tboundary=\"----=_Part_2736_1153062361.1641306364109\"\n",
      "----------------------------------------------------------------------------------------------------\n"
     ]
    },
    {
     "name": "stdout",
     "output_type": "stream",
     "text": [
      "['Delivered-To', 'Received', 'X-Google-Smtp-Source', 'X-Received', 'ARC-Seal', 'ARC-Message-Signature', 'ARC-Authentication-Results', 'Return-Path', 'Received', 'Received-SPF', 'Authentication-Results', 'DKIM-Signature', 'X-Google-DKIM-Signature', 'X-Gm-Message-State', 'MIME-Version', 'X-Received', 'Reply-To', 'Sender', 'Precedence', 'List-Unsubscribe', 'Message-ID', 'Date', 'Subject', 'From', 'To', 'Content-Type']\n",
      "Date: Tue, 04 Jan 2022 07:50:09 +0000\n",
      "12 From: Analytics Vidhya <noreply+feedproxy@google.com>\n",
      "Subject: =?UTF-8?Q?=E2=80=9CBuilding_Language_Models_in_NLP=E2=80=9D_plus_4_more?=\n",
      "content type: multipart/alternative; boundary=\"000000000000ec4aab05d4bce21d\"\n",
      "----------------------------------------------------------------------------------------------------\n",
      "['Delivered-To', 'Received', 'X-Google-Smtp-Source', 'X-Received', 'ARC-Seal', 'ARC-Message-Signature', 'ARC-Authentication-Results', 'Return-Path', 'Received', 'Received-SPF', 'Authentication-Results', 'DKIM-Signature', 'DKIM-Signature', 'From', 'Message-ID', 'Subject', 'MIME-Version', 'Content-Type', 'To', 'Date', 'X-LinkedIn-Class', 'X-LinkedIn-Template', 'X-LinkedIn-fbl', 'X-LinkedIn-Id', 'List-Unsubscribe', 'Feedback-ID', 'Require-Recipient-Valid-Since']\n",
      "Date: Mon, 3 Jan 2022 14:27:33 +0000 (UTC)\n",
      "13 From: LinkedIn <notifications-noreply@linkedin.com>\n",
      "Subject: Tata Consultancy Services shared a...\n",
      "content type: multipart/alternative; \n",
      "\tboundary=\"----=_Part_12702786_1860612627.1641220053183\"\n",
      "----------------------------------------------------------------------------------------------------\n",
      "['Delivered-To', 'Received', 'X-Google-Smtp-Source', 'X-Received', 'ARC-Seal', 'ARC-Message-Signature', 'ARC-Authentication-Results', 'Return-Path', 'Received', 'Received-SPF', 'Authentication-Results', 'DKIM-Signature', 'Received', 'Date', 'Return-Path', 'To', 'From', 'Reply-to', 'Subject', 'Message-ID', 'X-Priority', 'X-Mailer', 'X-Campaign', 'X-campaignid', 'X-Report-Abuse', 'List-Unsubscribe', 'Precedence', 'Feedback-ID', 'X-Feedback-ID', 'X-Postmaster-MsgType', 'List-id', 'MIME-Version', 'Content-Type']\n",
      "Date: Mon, 3 Jan 2022 14:17:31 +0000\n",
      "14 From: Analytics India Magazine <support@analyticsindiamag.com>\n",
      "Subject: How ethical was AI in 2021?\n",
      "content type: multipart/alternative;\n",
      "\tboundary=\"b1_34783897be30382525d60ac15eef7ced\"\n",
      "----------------------------------------------------------------------------------------------------\n",
      "['Delivered-To', 'Received', 'X-Google-Smtp-Source', 'X-Received', 'ARC-Seal', 'ARC-Message-Signature', 'ARC-Authentication-Results', 'Return-Path', 'Received', 'Received-SPF', 'Authentication-Results', 'DKIM-Signature', 'IronPort-SDR', 'X-Attachment-filename', 'IronPort-Data', 'IronPort-HdrOrdr', 'X-IronPort-AV', 'Received', 'Received', 'From', 'To', 'Message-ID', 'Subject', 'MIME-Version', 'Content-Type', 'DIRS_EBILL_HEADER_START', 'BILL_MODE', 'DELIVERY_STATUS', 'MOBILE_NO', 'BOUNCE_DATE', 'LAST_UPDATE', 'DISPATCHER_ID', 'INVOICE_NO', 'ACCOUNT_NO', 'DIRS_EBILL_HEADER_END', 'Return-Path', 'Date']\n",
      "Date: Mon, 3 Jan 2022 01:52:09 +0530\n",
      "15 From: <ebill@airtel.com>\n",
      "Subject: Your Airtel Mobile Bill for 84849XXXXX for 26-12-2021 is ready to\n",
      " view\n",
      "content type: multipart/mixed;\n",
      "\tboundary=\"----=_Part_4493569_1946301198.1641154934026\"\n",
      "----------------------------------------------------------------------------------------------------\n",
      "['Delivered-To', 'Received', 'X-Google-Smtp-Source', 'X-Received', 'ARC-Seal', 'ARC-Message-Signature', 'ARC-Authentication-Results', 'Return-Path', 'Received', 'Received-SPF', 'Authentication-Results', 'Received', 'DKIM-Signature', 'Received', 'Date', 'From', 'To', 'Message-ID', 'Subject', 'MIME-Version', 'Content-Type']\n",
      "Date: Sun, 2 Jan 2022 17:32:21 +0530\n",
      "16 From: credit_cards@icicibank.com\n",
      "Subject: Transaction alert for your ICICI Bank credit card\n",
      "content type: multipart/mixed; \n",
      "\tboundary=\"----=_Part_31215564_1703986975.1641124941183\"\n",
      "----------------------------------------------------------------------------------------------------\n",
      "['Delivered-To', 'Received', 'X-Google-Smtp-Source', 'X-Received', 'ARC-Seal', 'ARC-Message-Signature', 'ARC-Authentication-Results', 'Return-Path', 'Received', 'Received-SPF', 'Authentication-Results', 'Received', 'DKIM-Signature', 'Received', 'MIME-Version', 'X-Mailer', 'Subject', 'From', 'To', 'Message-ID', 'X-xsMessageId', 'X-xsMailingId', 'Date', 'Content-Type']\n",
      "Date: Sat, 01 Jan 2022 19:30:57 GMT\n",
      "17 From: \"Estatement\" <estatement@icicibank.com>\n",
      "Subject: ICICI Bank Statement from 01-12-2021 to 31-12-2021 for XXXXXXXXXX76\n",
      "content type: multipart/mixed;\n",
      "\tboundary=\"--_=_NextPart_002_01C39C9D.5EAC49D8\"\n",
      "----------------------------------------------------------------------------------------------------\n",
      "['Delivered-To', 'Received', 'X-Google-Smtp-Source', 'X-Received', 'ARC-Seal', 'ARC-Message-Signature', 'ARC-Authentication-Results', 'Return-Path', 'Received', 'Received-SPF', 'Authentication-Results', 'DKIM-Signature', 'X-Google-DKIM-Signature', 'X-Gm-Message-State', 'MIME-Version', 'X-Received', 'Reply-To', 'Sender', 'Precedence', 'List-Unsubscribe', 'Message-ID', 'Date', 'Subject', 'From', 'To', 'Content-Type']\n",
      "Date: Sat, 01 Jan 2022 10:52:57 +0000\n",
      "18 From: Analytics Vidhya <noreply+feedproxy@google.com>\n",
      "Subject: =?UTF-8?Q?=E2=80=9CWhat_do_Banks_do_with_data=3F_Case_Study=3A_Predictin?=\n",
      "\t=?UTF-8?Q?g_the_salary_of_a_Bank_Customer_using_Financial_Data=E2=80=9D_plus?=\n",
      "\t=?UTF-8?Q?_8_more?=\n",
      "content type: multipart/alternative; boundary=\"00000000000025a11505d4831768\"\n",
      "----------------------------------------------------------------------------------------------------\n",
      "['Delivered-To', 'Received', 'X-Google-Smtp-Source', 'X-Received', 'ARC-Seal', 'ARC-Message-Signature', 'ARC-Authentication-Results', 'Return-Path', 'Received', 'Received-SPF', 'Authentication-Results', 'DKIM-Signature', 'To', 'From', 'Reply-To', 'Subject', 'Message-ID', 'List-Unsubscribe', 'Feedback-ID', 'MIME-Version', 'Content-Type', 'Date']\n",
      "Date: Sat, 1 Jan 2022 05:20:59 +0530\n",
      "19 From: Communications.cra@nsdl.co.in\n",
      "Subject: Protean-CRA wishes you a Happy New Year!\n",
      "content type: multipart/alternative;\n",
      "\tboundary=\"b1_a72ae3dbd34805004c0a804c1780cd03\"\n",
      "----------------------------------------------------------------------------------------------------\n",
      "['Delivered-To', 'Received', 'X-Google-Smtp-Source', 'X-Received', 'ARC-Seal', 'ARC-Message-Signature', 'ARC-Authentication-Results', 'Return-Path', 'Received', 'Received-SPF', 'Authentication-Results', 'DKIM-Signature', 'DKIM-Signature', 'Received', 'Received', 'Content-Transfer-Encoding', 'Content-Type', 'Date', 'From', 'Mime-Version', 'Message-ID', 'Subject', 'Reply-To', 'X-Feedback-ID', 'X-SG-EID', 'X-SG-ID', 'To', 'X-Entity-ID']\n",
      "Date: Fri, 31 Dec 2021 07:05:02 +0000 (UTC)\n",
      "20 From: Zoom <no-reply@zoom.us>\n",
      "Subject: Meeting information has been updated - 12th August WKDY Batch-1\n",
      " ::Stats & ML by Anil ::7:30PM To 9:30PM IST\n",
      "content type: text/html; charset=us-ascii\n",
      "----------------------------------------------------------------------------------------------------\n",
      "['Delivered-To', 'Received', 'X-Google-Smtp-Source', 'X-Received', 'ARC-Seal', 'ARC-Message-Signature', 'ARC-Authentication-Results', 'Return-Path', 'Received', 'Received-SPF', 'Authentication-Results', 'Content-Type', 'Date', 'DKIM-Signature', 'Feedback-ID', 'From', 'List-Unsubscribe', 'List-Unsubscribe-Post', 'Message-ID', 'MIME-Version', 'Precedence', 'Reply-To', 'Require-Recipient-Valid-Since', 'Return-Path', 'Sender', 'Subject', 'To', 'X-Complaints-To', 'X-CSA-Complaints']\n",
      "Date: Thu, 30 Dec 2021 14:07:25 +0000\n",
      "21 From: \"~Saurav Pal~\" <skp@sauravpal.com>\n",
      "Subject: =?UTF-8?Q?Party_already_started=2C_Pallavi_=F0=9F=8E=8A?=\n",
      "content type: multipart/alternative; boundary=63f4174faff0e0a197ec96801b208d53\n",
      "----------------------------------------------------------------------------------------------------\n",
      "['Delivered-To', 'Received', 'X-Google-Smtp-Source', 'X-Received', 'ARC-Seal', 'ARC-Message-Signature', 'ARC-Authentication-Results', 'Return-Path', 'Received', 'Received-SPF', 'Authentication-Results', 'DKIM-Signature', 'Received', 'Received', 'Content-Transfer-Encoding', 'Content-Type', 'Date', 'From', 'Mime-Version', 'Message-ID', 'Subject', 'X-Feedback-ID', 'X-SG-EID', 'To', 'X-Entity-ID']\n",
      "Date: Wed, 29 Dec 2021 17:08:05 +0000 (UTC)\n",
      "22 From: Saurav Pal <skp.bpit@gmail.com>\n",
      "Subject: Password Reset Instructions\n",
      "content type: text/html; charset=us-ascii\n",
      "----------------------------------------------------------------------------------------------------\n"
     ]
    },
    {
     "name": "stdout",
     "output_type": "stream",
     "text": [
      "['Delivered-To', 'Received', 'X-Google-Smtp-Source', 'X-Received', 'ARC-Seal', 'ARC-Message-Signature', 'ARC-Authentication-Results', 'Return-Path', 'Received', 'Received-SPF', 'Authentication-Results', 'DKIM-Signature', 'X-Google-DKIM-Signature', 'X-Gm-Message-State', 'MIME-Version', 'X-Received', 'Reply-To', 'Sender', 'Precedence', 'List-Unsubscribe', 'Message-ID', 'Date', 'Subject', 'From', 'To', 'Content-Type']\n",
      "Date: Wed, 29 Dec 2021 15:51:11 +0000\n",
      "23 From: Analytics Vidhya <noreply+feedproxy@google.com>\n",
      "Subject: =?UTF-8?Q?=E2=80=9CPokemon_Prediction_using_Random_Forest=E2=80=9D_plus_1_?=\n",
      "\t=?UTF-8?Q?more?=\n",
      "content type: multipart/alternative; boundary=\"00000000000026e86905d44ae8cf\"\n",
      "----------------------------------------------------------------------------------------------------\n",
      "['Delivered-To', 'Received', 'X-Google-Smtp-Source', 'X-Received', 'ARC-Seal', 'ARC-Message-Signature', 'ARC-Authentication-Results', 'Return-Path', 'Received', 'Received-SPF', 'Authentication-Results', 'Received', 'DKIM-Signature', 'Received', 'Date', 'From', 'To', 'Message-ID', 'Subject', 'MIME-Version', 'Content-Type', 'Content-Transfer-Encoding']\n",
      "Date: Wed, 29 Dec 2021 20:24:02 +0530 (IST)\n",
      "24 From: \"customercare@icicibank.com\" <customercare@icicibank.com>\n",
      "Subject: OTP confirmation alert for your ICICI Bank Internet Banking\n",
      "content type: text/html; charset=us-ascii\n",
      "----------------------------------------------------------------------------------------------------\n",
      "['Delivered-To', 'Received', 'X-Google-Smtp-Source', 'X-Received', 'ARC-Seal', 'ARC-Message-Signature', 'ARC-Authentication-Results', 'Return-Path', 'Received', 'Received-SPF', 'Authentication-Results', 'Content-Type', 'Date', 'DKIM-Signature', 'Feedback-ID', 'From', 'List-Unsubscribe', 'List-Unsubscribe-Post', 'Message-ID', 'MIME-Version', 'Precedence', 'Reply-To', 'Require-Recipient-Valid-Since', 'Return-Path', 'Sender', 'Subject', 'To', 'X-Complaints-To', 'X-CSA-Complaints']\n",
      "Date: Wed, 29 Dec 2021 13:41:20 +0000\n",
      "25 From: \"~Saurav Pal~\" <skp@sauravpal.com>\n",
      "Subject: =?UTF-8?Q?Knock_Knock=2C_Pallavi=E2=9C=8B?=\n",
      "content type: multipart/alternative; boundary=ad9f59e8a1ed1cdd82d7d6f8fbd8dd32\n",
      "----------------------------------------------------------------------------------------------------\n",
      "['Delivered-To', 'Received', 'X-Google-Smtp-Source', 'X-Received', 'ARC-Seal', 'ARC-Message-Signature', 'ARC-Authentication-Results', 'Return-Path', 'Received', 'Received-SPF', 'Authentication-Results', 'DKIM-Signature', 'DKIM-Signature', 'Received', 'Received', 'Content-Transfer-Encoding', 'Content-Type', 'Date', 'From', 'Mime-Version', 'Message-ID', 'Subject', 'Reply-To', 'X-Feedback-ID', 'X-SG-EID', 'X-SG-ID', 'To', 'X-Entity-ID']\n",
      "Date: Wed, 29 Dec 2021 13:25:03 +0000 (UTC)\n",
      "26 From: Saurav Pal <no-reply@zoom.us>\n",
      "Subject: Reminder: -Strategize your Salary Hike starting shortly\n",
      "content type: text/html; charset=us-ascii\n",
      "----------------------------------------------------------------------------------------------------\n",
      "['Delivered-To', 'Received', 'X-Google-Smtp-Source', 'X-Received', 'ARC-Seal', 'ARC-Message-Signature', 'ARC-Authentication-Results', 'Return-Path', 'Received', 'Received-SPF', 'Authentication-Results', 'DKIM-Signature', 'DKIM-Signature', 'Received', 'Received', 'Content-Transfer-Encoding', 'Content-Type', 'Date', 'From', 'Mime-Version', 'Message-ID', 'Subject', 'Reply-To', 'X-Feedback-ID', 'X-SG-EID', 'X-SG-ID', 'To', 'X-Entity-ID']\n",
      "Date: Wed, 29 Dec 2021 11:39:08 +0000 (UTC)\n",
      "27 From: Saurav Pal <no-reply@zoom.us>\n",
      "Subject: Thank you for registering\n",
      "content type: text/html; charset=us-ascii\n",
      "----------------------------------------------------------------------------------------------------\n",
      "['Delivered-To', 'Received', 'X-Google-Smtp-Source', 'X-Received', 'ARC-Seal', 'ARC-Message-Signature', 'ARC-Authentication-Results', 'Return-Path', 'Received', 'Received-SPF', 'Authentication-Results', 'DKIM-Signature', 'DKIM-Signature', 'From', 'Reply-To', 'To', 'Subject', 'MIME-Version', 'Content-Type', 'Content-Transfer-Encoding', 'Message-ID', 'Date', 'Feedback-ID', 'X-SES-Outgoing']\n",
      "Date: Wed, 29 Dec 2021 11:36:59 +0000\n",
      "28 From: Paytm Money <alerts@paytmmoney.com>\n",
      "Subject: Payment successful for your investment\n",
      "content type: text/html; charset=UTF-8\n",
      "----------------------------------------------------------------------------------------------------\n",
      "['Delivered-To', 'Received', 'X-Google-Smtp-Source', 'X-Received', 'ARC-Seal', 'ARC-Message-Signature', 'ARC-Authentication-Results', 'Return-Path', 'Received', 'Received-SPF', 'Authentication-Results', 'DKIM-Signature', 'X-Google-DKIM-Signature', 'X-Gm-Message-State', 'MIME-Version', 'X-Received', 'Reply-To', 'Sender', 'Precedence', 'List-Unsubscribe', 'Message-ID', 'Date', 'Subject', 'From', 'To', 'Content-Type']\n",
      "Date: Tue, 28 Dec 2021 23:30:02 +0000\n",
      "29 From: Analytics Vidhya <noreply+feedproxy@google.com>\n",
      "Subject: =?UTF-8?Q?=E2=80=9CDeep_Learning_in_Medical=3A_Classification_of_Malar?=\n",
      "\t=?UTF-8?Q?ia_Infected_Blood_Cells_with_ResNet=E2=80=9D_plus_4_more?=\n",
      "content type: multipart/alternative; boundary=\"00000000000053ded405d43d33ef\"\n",
      "----------------------------------------------------------------------------------------------------\n",
      "['Delivered-To', 'Received', 'X-Google-Smtp-Source', 'X-Received', 'ARC-Seal', 'ARC-Message-Signature', 'ARC-Authentication-Results', 'Return-Path', 'Received', 'Received-SPF', 'Authentication-Results', 'DKIM-Signature', 'DKIM-Signature', 'Date', 'From', 'Reply-To', 'To', 'Message-ID', 'Subject', 'MIME-Version', 'Content-Type', 'Feedback-ID', 'X-SES-Outgoing']\n",
      "Date: Tue, 28 Dec 2021 18:50:35 +0000\n",
      "30 From: MongoDB Atlas <mongodb-atlas@mongodb.com>\n",
      "Subject: Your MongoDB Atlas M0 cluster will be automatically paused in 7\n",
      " days\n",
      "content type: multipart/alternative; \n",
      "\tboundary=\"----=_Part_202742_1895060355.1640717435926\"\n",
      "----------------------------------------------------------------------------------------------------\n",
      "['Delivered-To', 'Received', 'X-Google-Smtp-Source', 'X-Received', 'ARC-Seal', 'ARC-Message-Signature', 'ARC-Authentication-Results', 'Return-Path', 'Received', 'Received-SPF', 'Authentication-Results', 'DKIM-Signature', 'DKIM-Signature', 'Date', 'From', 'Reply-To', 'To', 'Message-ID', 'Subject', 'MIME-Version', 'Content-Type', 'Feedback-ID', 'X-SES-Outgoing']\n",
      "Date: Tue, 28 Dec 2021 14:48:06 +0000\n",
      "31 From: MongoDB Atlas <mongodb-atlas@mongodb.com>\n",
      "Subject: Your MongoDB Atlas M0 cluster will be automatically paused in 7\n",
      " days\n",
      "content type: multipart/alternative; \n",
      "\tboundary=\"----=_Part_195878_907797143.1640702886229\"\n",
      "----------------------------------------------------------------------------------------------------\n",
      "['Delivered-To', 'Received', 'X-Google-Smtp-Source', 'X-Received', 'ARC-Seal', 'ARC-Message-Signature', 'ARC-Authentication-Results', 'Return-Path', 'Received', 'Received-SPF', 'Authentication-Results', 'Content-Type', 'Date', 'DKIM-Signature', 'Feedback-ID', 'From', 'List-Unsubscribe', 'List-Unsubscribe-Post', 'Message-ID', 'MIME-Version', 'Precedence', 'Reply-To', 'Require-Recipient-Valid-Since', 'Return-Path', 'Sender', 'Subject', 'To', 'X-Complaints-To', 'X-CSA-Complaints']\n",
      "Date: Tue, 28 Dec 2021 13:19:45 +0000\n",
      "32 From: \"~Saurav Pal~\" <skp@sauravpal.com>\n",
      "Subject: =?UTF-8?Q?Let=27s_meet_-_Pallavi_=F0=9F=98=8D?=\n",
      "content type: multipart/alternative; boundary=09da6603eab7188ccbe077dae77c9361\n",
      "----------------------------------------------------------------------------------------------------\n",
      "['Delivered-To', 'Received', 'X-Google-Smtp-Source', 'X-Received', 'ARC-Seal', 'ARC-Message-Signature', 'ARC-Authentication-Results', 'Return-Path', 'Received', 'Received-SPF', 'Authentication-Results', 'DKIM-Signature', 'Received', 'Received', 'Content-Transfer-Encoding', 'Content-Type', 'Date', 'From', 'Mime-Version', 'Message-ID', 'Subject', 'X-Feedback-ID', 'X-SG-EID', 'To', 'Bcc', 'X-Entity-ID']\n",
      "Date: Tue, 28 Dec 2021 09:21:32 +0000 (UTC)\n",
      "33 From: contact@ineuron.ai\n",
      "Subject: Machine Learning and Deep Learning Masters 10th April batch\n",
      "content type: text/html; charset=us-ascii\n",
      "----------------------------------------------------------------------------------------------------\n"
     ]
    },
    {
     "ename": "UnicodeDecodeError",
     "evalue": "'utf-8' codec can't decode byte 0xb9 in position 5377: invalid start byte",
     "output_type": "error",
     "traceback": [
      "\u001b[1;31m---------------------------------------------------------------------------\u001b[0m",
      "\u001b[1;31mUnicodeDecodeError\u001b[0m                        Traceback (most recent call last)",
      "\u001b[1;32m<ipython-input-15-164d316c0a3a>\u001b[0m in \u001b[0;36m<module>\u001b[1;34m\u001b[0m\n\u001b[0;32m      5\u001b[0m \u001b[1;31m#import email\u001b[0m\u001b[1;33m\u001b[0m\u001b[1;33m\u001b[0m\u001b[1;33m\u001b[0m\u001b[0m\n\u001b[0;32m      6\u001b[0m \u001b[1;33m\u001b[0m\u001b[0m\n\u001b[1;32m----> 7\u001b[1;33m \u001b[0maccess_mail\u001b[0m\u001b[1;33m(\u001b[0m\u001b[0memail_id\u001b[0m\u001b[1;33m,\u001b[0m\u001b[0memail_pass\u001b[0m\u001b[1;33m)\u001b[0m\u001b[1;33m\u001b[0m\u001b[1;33m\u001b[0m\u001b[0m\n\u001b[0m",
      "\u001b[1;32m<ipython-input-14-5e223cf9c303>\u001b[0m in \u001b[0;36maccess_mail\u001b[1;34m(mailid, passwd, no_of_mails)\u001b[0m\n\u001b[0;32m     19\u001b[0m             \u001b[0marr\u001b[0m \u001b[1;33m=\u001b[0m \u001b[0mresponse_part\u001b[0m\u001b[1;33m[\u001b[0m\u001b[1;36m0\u001b[0m\u001b[1;33m]\u001b[0m\u001b[1;33m\u001b[0m\u001b[1;33m\u001b[0m\u001b[0m\n\u001b[0;32m     20\u001b[0m             \u001b[1;32mif\u001b[0m \u001b[0misinstance\u001b[0m\u001b[1;33m(\u001b[0m\u001b[0marr\u001b[0m\u001b[1;33m,\u001b[0m\u001b[0mtuple\u001b[0m\u001b[1;33m)\u001b[0m\u001b[1;33m:\u001b[0m\u001b[1;33m\u001b[0m\u001b[1;33m\u001b[0m\u001b[0m\n\u001b[1;32m---> 21\u001b[1;33m                 \u001b[0mmsg\u001b[0m \u001b[1;33m=\u001b[0m \u001b[0memail\u001b[0m\u001b[1;33m.\u001b[0m\u001b[0mmessage_from_string\u001b[0m\u001b[1;33m(\u001b[0m\u001b[0mstr\u001b[0m\u001b[1;33m(\u001b[0m\u001b[0marr\u001b[0m\u001b[1;33m[\u001b[0m\u001b[1;36m1\u001b[0m\u001b[1;33m]\u001b[0m\u001b[1;33m,\u001b[0m\u001b[1;34m'utf-8'\u001b[0m\u001b[1;33m)\u001b[0m\u001b[1;33m)\u001b[0m\u001b[1;33m\u001b[0m\u001b[1;33m\u001b[0m\u001b[0m\n\u001b[0m\u001b[0;32m     22\u001b[0m                 \u001b[0mprint\u001b[0m\u001b[1;33m(\u001b[0m\u001b[0mmsg\u001b[0m\u001b[1;33m.\u001b[0m\u001b[0mkeys\u001b[0m\u001b[1;33m(\u001b[0m\u001b[1;33m)\u001b[0m\u001b[1;33m)\u001b[0m\u001b[1;33m\u001b[0m\u001b[1;33m\u001b[0m\u001b[0m\n\u001b[0;32m     23\u001b[0m                 \u001b[0memail_subject\u001b[0m \u001b[1;33m=\u001b[0m \u001b[0mmsg\u001b[0m\u001b[1;33m[\u001b[0m\u001b[1;34m'subject'\u001b[0m\u001b[1;33m]\u001b[0m\u001b[1;33m\u001b[0m\u001b[1;33m\u001b[0m\u001b[0m\n",
      "\u001b[1;31mUnicodeDecodeError\u001b[0m: 'utf-8' codec can't decode byte 0xb9 in position 5377: invalid start byte"
     ]
    }
   ],
   "source": [
    "import os\n",
    "email_id=os.environ.get('EMAIL_USER')\n",
    "email_pass=os.environ.get('EMAIL_PASS')\n",
    "\n",
    "access_mail(email_id,email_pass)"
   ]
  },
  {
   "cell_type": "markdown",
   "metadata": {},
   "source": [
    "### 15 . write a func bywhcih i can send a mail to anyone "
   ]
  },
  {
   "cell_type": "code",
   "execution_count": 16,
   "metadata": {},
   "outputs": [],
   "source": [
    "def send_mail(mailid,passwd,receiver):\n",
    "    \"\"\"\n",
    "    This function will be able to send mail.\n",
    "    \"\"\"\n",
    "    import smtplib\n",
    "\n",
    "    server = \"smtp.gmail.com\"\n",
    "    port=587\n",
    "    subject=input(\"Enter the subject: \")\n",
    "    message=input(\"Enter the message: \")\n",
    "\n",
    "    body=\"\"\"\n",
    "    Subject:{}\n",
    "\n",
    "    {}\n",
    "    \"\"\".format(subject,message)\n",
    "\n",
    "    #send mail\n",
    "    conn=smtplib.SMTP(server, port)\n",
    "    conn.starttls()\n",
    "    conn.login(mailid,email_pass)\n",
    "    conn.sendmail(email_id,receiver,body)\n",
    "    conn.quit()\n",
    "    print(\"Email sent successfully.\")"
   ]
  },
  {
   "cell_type": "code",
   "execution_count": 17,
   "metadata": {},
   "outputs": [
    {
     "name": "stdout",
     "output_type": "stream",
     "text": [
      "Enter the subject: TEST\n",
      "Enter the message: test mail to check accuracy of code\n",
      "Email sent successfully.\n"
     ]
    }
   ],
   "source": [
    "import os\n",
    "email_id=os.environ.get('EMAIL_USER')\n",
    "email_pass=os.environ.get('EMAIL_PASS')\n",
    "#receiver=input(\"Enter the receiver mail id: \")\n",
    "receiver=email_id\n",
    "send_mail(email_id,email_pass,receiver)"
   ]
  },
  {
   "cell_type": "markdown",
   "metadata": {},
   "source": [
    "### 16. write a func to read a complete PDf file . "
   ]
  },
  {
   "cell_type": "code",
   "execution_count": 4,
   "metadata": {},
   "outputs": [],
   "source": [
    "import PyPDF2, os, filetype\n",
    "def pdf_reader(dir_path, pdf_name):\n",
    "    \"\"\"\n",
    "    This function reads a complete PDf file \n",
    "    \"\"\"\n",
    "    pdf_path = os.path.join(dir_path,pdf_name)\n",
    "    if os.path.exists(pdf_path) and filetype.guess(pdf_path).mime == 'application/pdf':\n",
    "        pdfFileObject = open(pdf_path, 'rb')\n",
    "        pdfReader = PyPDF2.PdfFileReader(pdfFileObject)\n",
    "        text=''\n",
    "        for i in range(0,pdfReader.numPages):\n",
    "            # creating a page object\n",
    "            pageObj = pdfReader.getPage(i)\n",
    "            # extracting text from page\n",
    "            text=text+pageObj.extractText()\n",
    "        return text\n",
    "    else:\n",
    "        print(\"Please enter correct path as an argument\")"
   ]
  },
  {
   "cell_type": "code",
   "execution_count": 5,
   "metadata": {
    "collapsed": true
   },
   "outputs": [
    {
     "data": {
      "text/plain": [
       "'AVALARA, INC.\\n 2018 EQUITY INCENTIVE PLAN\\n   SECTION 1.  PURPOSE\\n The purpose of the Avalara, Inc. 2018 Equity Incentive Plan is to attract, retain and motivate employees, \\nofficers, \\ndirectors, consultants, agents, advisors and independent contractors of the Company and its Related \\nCompanies by providing them with the opportunity to acquire a proprietary interest in the Company and to \\nalign their interests and efforts to the long\\n-term \\ninterests of the Company\\n™s shareholders.  \\n SECTION 2.  DEFINITIONS\\n Certain capitalized terms used in the Plan have the meanings set forth in \\nAppendix\\n A. SECTION 3.  ADMINISTRATION\\n 3.1 Administration of the Plan\\n (a)\\n The Plan shall be administered by the Boa\\nrd and/or the Compensation Committee.  \\nThe\\n Compensation Committee shall be composed of two or more directors, each of whom is (i) a \\nﬁnon-employee director\\nﬂ within the meaning of Rule 16b\\n-3(b)(3) promulgated under the Exchange \\nAct, or any successor definiti\\non adopted by the Securities and Exchange Commission, and (ii) \\nﬁindependent\\nﬂ within the meaning of stock exchange listing rules or rules of a similar regulatory \\nauthority applicable to the Company. \\n (b)\\n Notwithstanding the foregoing, the Board may delegate\\n concurrent responsibility for administering \\nthe Plan, including with respect to designated classes of Eligible Persons, to different committees \\nconsisting of two or more members of the Board, subject to such limitations as the Board deems \\nappropriate, exc\\nept with respect to Awards granted to Participants who are subject to Section 16 of \\nthe Exchange Act.  Members of any committee shall serve for such term as the Board may \\ndetermine, subject to removal by the Board at any time.  To the extent consistent wit\\nh applicable \\nlaw, the Board may authorize one or more senior executive\\n officers of the Company to grant \\nAwards to designated classes of Eligible Persons, within limits specifically prescribed by the \\nBoard; provided, however, that no \\nsuch officer shall \\nhave\\n or obtain authority to grant Awards to \\nhimself or herself or to any person subject to Section 16 of the Exchange Act.  \\n (c)\\n All references in the Plan to the \\nﬁCommittee\\nﬂ shall be, as applicable, to the Board, the \\nCompensation Committee or any other commit\\ntee or executive officer to whom authority has been \\ndelegated to administer the Plan.\\n 3.2 Administration and Interpretation by Committee\\n (a)\\n Except for the terms and conditions explicitly set forth in the Plan and to the extent permitted by \\napplicable law,\\n the Committee shall have full power and exclusive authority, subject to such orders \\nor resolutions not inconsistent with the provisions of the Plan as may from time to time be adopted \\nby the Board or the Compensation Committee and the limits of any delega\\nted authority, to (i)\\n select \\nthe Eligible Persons to whom Awards may from time to time be granted under the Plan; \\n(ii)\\n determine the type or types of Awards to be granted to each Participant under the Plan; \\n-2- (iii)\\n determine the number of shares of Common St\\nock to be covered by each Award granted under \\nthe Plan; (iv)\\n determine the terms and conditions of any Award granted under the Plan; (v) approve \\nthe forms of notice or agreement for use under the Plan; (vi) amend, modify, suspend, discontinue \\nor terminate \\nthe Plan, waive any restrictions or conditions applicable to an Award or amend or \\nmodify the terms and conditions of an outstanding Award; (vii)\\n determine whether, to what extent \\nand under what circumstances Awards may be settled in cash, shares of Common \\nStock or other \\nproperty or canceled or suspended; (viii)\\n interpret and administer the Plan and any instrument \\nevidencing an Award, notice or agreement executed or entered into under the Plan; (ix)\\n establish \\nsuch rules and regulations as it shall deem appro\\npriate for the proper administration and operation \\nof the Plan; (x)\\n delegate ministerial duties to such of the Company\\n™s employees as it so determines; \\nand (xi)\\n make any other determination and take any other action that the Committee deems \\nnecessary or de\\nsirable for administration of the Plan.\\n (b)\\n Notwithstanding the foregoing, the Committee shall not have the right, without shareholder \\napproval, to (i) lower the exercise or grant price of an Option or SAR after it is granted; (ii) cancel \\nan Option or SAR \\nat a time when its exercise or grant price exceeds the Fair Market Value of the \\nunderlying stock, in exchange for cash, another option or stock appreciation right, restricted stock, \\nor other equity award; or (iii) take any other action that is treated as a\\n repricing under U.S. generally \\naccepted accounting principles.\\n (c)\\n The effect on the vesting of an Award of a Company\\n-approved leave of absence or a Participant\\n™s reduction in hours of employment or service shall be determined by the Company\\n™s chief human\\n resources officer or other person performing that function or, with respect to directors or executive \\nofficers, by the Compensation Committee, whose determination shall be final.\\n (d)\\n Decisions of the Committee shall be final, conclusive and binding on all\\n persons, including the \\nCompany, any Participant, any shareholder and any Eligible Person.  A majority of the members \\nof the Committee may determine its actions.\\n SECTION 4.  SHARES SUBJECT TO THE PLAN\\n 4.1 Authorized Number of Shares\\n Subject to adjustment f\\nrom time to time as provided in Section\\n 15.1, the number of shares of Common \\nStock available for issuance under the Plan shall be: \\n (a)\\n 8% of the total number of shares of Common Stock outstanding on the Effective Close Date \\n(rounded up to the nearest \\nwhole share); plus\\n (b)\\n an annual share increase to be added as of January 1st of each calendar year commencing after the \\nEffective Close Date equal to the lesser of (i) 5% of the aggregate number of shares of Common \\nStock outstanding on December 31st of th\\ne immediately preceding calendar year, (rounded up to \\nthe nearest whole share and excluding for this purpose any such outstanding shares of Common \\nStock that were granted under the Plan and remain unvested and subject to forfeiture as of the \\nrelevant Decem\\nber 31st) and (ii) an amount determined by the Committee; provided, however, that \\nany shares that become available from any such increases in previous years that are not actually \\nissued shall continue to be available for issuance under the Plan; plus \\n (c) \\n any shares subject to outstanding awards under the Company\\n™s 2006 Equity Incentive Plan \\n(the\\n ﬁ2006 Plan\\nﬂ) on the IPO Date that subsequently cease to be subject to such awards (other than \\nby reason of exercise or settlement of the awards to the extent they\\n are exercised for or settled in \\n-3- vested or nonforfeitable shares), which shares shall cease, as of the applicable dates, to be set aside \\nor reserved for issuance pursuant to the 2006 Plan and shall instead be set aside and reserved for \\nissuance pursuant to\\n the Plan. \\n Shares issued under the Plan shall be drawn from authorized and unissued shares.\\n 4.2 Share Usage\\n (a)\\n If any Award lapses, expires, terminates or is canceled prior to the issuance of shares thereunder or \\nif shares of Common Stock are issued unde\\nr the Plan to a Participant and thereafter are forfeited to \\nthe Company, the shares subject to such Awards and the forfeited shares shall again be available \\nfor issuance under the Plan.  Any shares of Common Stock (i)\\n tendered by a Participant or retained \\nby the Company as full or partial payment to the Company for the purchase price of an Award or \\nto satisfy tax withholding obligations in connection with an Award, or (ii)\\n covered by an Award \\nthat is settled in cash, or in a manner such that some or all of \\nthe shares of Common Stock covered \\nby the Award are not issued, shall be available for Awards under the Plan.  The number of shares \\nof Common Stock available for issuance under the Plan shall not be reduced to reflect any dividends \\nor dividend equivalents \\nthat are reinvested into additional shares of Common Stock or credited as \\nadditional shares of Common Stock subject or paid with respect to an Award. \\n (b)\\n The Committee shall also, without limitation, have the authority to grant Awards as an alternative \\nto or as the form of payment for grants or rights earned or due under other compensation plans or \\narrangements of the Company.\\n (c)\\n Notwithstanding any other provision of the Plan to the contrary, the Committee may grant \\nSubstitute Awards under the Plan.  Sub\\nstitute Awards shall not reduce the number of shares \\nauthorized for issuance under the Plan.  In the event that an Acquired Entity has shares available \\nfor awards or grants under one or more preexisting plans not adopted in contemplation of such \\nacquisitio\\nn or combination and previously approved by the Acquired Entity\\n™s shareholders, then, \\nto the extent determined by the Board or the Compensation Committee, the shares available for \\ngrant pursuant to the terms of such preexisting plans (as adjusted, to the e\\nxtent appropriate, using \\nthe exchange ratio or other adjustment or valuation ratio or formula used in such acquisition or \\ncombination to determine the consideration payable to holders of securities of the entities that are \\nparties to such acquisition or co\\nmbination) may be used for Awards under the Plan and shall not \\nreduce the number of shares of Common Stock authorized for issuance under the Plan; provided, \\nhowever, that Awards using such available shares shall not be made after the date awards or grants \\ncould have been made under the terms of such preexisting plans, absent the acquisition or \\ncombination, and shall only be made to individuals who were not employees or directors of the \\nCompany or a Related Company prior to such acquisition or combination.  \\nIn the event that a \\nwritten agreement between the Company and an Acquired Entity pursuant to which a merger or \\nconsolidation is completed is approved by the Board and that agreement sets forth the terms and \\nconditions of the substitution for or assumption \\nof outstanding awards of the Acquired Entity, those \\nterms and conditions shall be deemed to be the action of the Committee without any further action \\nby the Committee, except as may be required for compliance with Rule\\n 16b-3 under the Exchange \\nAct, and the\\n persons holding such awards shall be deemed to be Participants.\\n (d)\\n Notwithstanding any other provision of this Section\\n 4.2 to the contrary, the maximum number of \\nshares of Common Stock that may be issued upon the exercise of Incentive Stock Options shall\\n be \\n5,000,000 shares,\\n subject to adjustment as provided in Section\\n 15.1.\\n -4- 4.3 Limitation on Awards to Non\\n-Employee Directors\\n Notwithstanding any other provision of the Plan to the contrary, during any calendar year, no member of \\nthe Board who is not an empl\\noyee of the Company or a Related Company may be granted Awards or cash \\ncompensation solely with respect to service as a director that exceed\\ns in the aggregate $\\n750,000\\n in value \\n(such value for Awards denominated in shares computed as of the Grant Date of s\\nuch Awards in accordance \\nwith applicable financial accounting standards).  For purposes of the foregoing limit, Awards granted in \\nprevious calendar years will not count against the Award limits in subsequent calendar years\\n, even if the \\nAwards from previous calendar years are earned, vest or are otherwise settled in calendar years following \\nthe calendar year in which they are granted.\\n SECTION 5.  ELIGIBILITY\\n An Award may be granted to any employee, officer or director of the \\nCompany or a Related Company \\nwhom the Committee from time to time selects.  An Award may also be granted to any consultant, agent, \\nadvisor or independent contractor for bona fide services rendered to the Company or any Related Company \\nthat (a)\\n are not in c\\nonnection with the offer and sale of the Company\\n™s securities in a capital\\n-raising \\ntransaction and (b)\\n do not directly or indirectly promote or maintain a market for the Company\\n™s securities.\\n SECTION 6.  AWARDS\\n 6.1 Form, Grant and Settlement of Awards\\n The \\nCommittee shall have the authority, in its sole discretion, to determine the type or types of Awards to \\nbe granted under the Plan.  Such Awards may be granted either alone or in addition to or in tandem with \\nany other type of Award.  Any Award settlement m\\nay be subject to such conditions, restrictions and \\ncontingencies as the Committee shall determine.\\n 6.2 Evidence of Awards\\n Awards granted under the Plan shall be evidenced by a written, including an electronic, instrument that \\nshall contain such terms, cond\\nitions, limitations and restrictions as the Committee shall deem advisable that \\nare not inconsistent with the Plan.\\n 6.3 Dividends and Distributions\\n Participants may, if the Committee so determines, other than with respect to Options or Stock Appreciation \\nRights, be credited with dividends or dividend equivalents for dividends paid with respect to shares of \\nCommon Stock underlying an Award in a manner determined by the Committee in its sole discretion; \\nprovided, however, that with respect to Awards that are \\nsubject to achievement of performance goals, any \\nsuch credited dividends or dividend equivalents may be paid only with respect to the portion of such Awards \\nthat is actually earned.  The Committee may apply any restrictions to the dividends or dividend equ\\nivalents \\nthat the Committee deems appropriate.  The Committee, in its sole discretion, may determine the form of \\npayment of dividends or dividend equivalents, including cash, shares of Common Stock, Restricted Stock \\nor Stock Units.  Also notwithstanding th\\ne foregoing, the right to any dividends or dividend equivalents \\ndeclared and paid on Restricted Stock must comply with or qualify for an exemption under Section 409A.\\n -5- SECTION 7.  OPTIONS\\n 7.1 Grant of Options\\n The Committee may grant Options designated as In\\ncentive Stock Options or Nonqualified Stock Options.\\n 7.2  Option Exercise Price\\n Options shall be granted with an exercise price per share not less than 100% of the Fair Market Value of \\nthe Common Stock on the Grant Date (and such exercise price shall not b\\ne less than the minimum exercise \\nprice required by Section 422 of the Code with respect to Incentive Stock Options), except in the case of \\nSubstitute Awards. \\n 7.3 Term of Options\\n Subject to earlier termination in accordance with the terms of the Plan and t\\nhe instrument evidencing the \\nOption, the maximum term of an Option shall be ten years from the Grant Date.  For Incentive Stock \\nOptions, the maximum term shall comply with Section 422 of the Code.\\n 7.4 Exercise of Options\\n (a)\\n The Committee shall establish and set forth in each instrument that evidences an Option the time \\nat which, or the installments in which, the Option shall vest and become exercisable. \\n (b)\\n To the extent an Option has vested and become exercisable, the Optio\\nn may be exercised in whole \\nor from time to time in part by delivery to the Company or a brokerage firm designated or approved \\nby the Company of a properly executed stock option exercise agreement or notice, in a form and in \\naccordance with procedures esta\\nblished by the Committee, setting forth the number of shares with \\nrespect to which the Option is being exercised, the restrictions imposed on the shares purchased \\nunder such exercise agreement or notice, if any, and such representations and agreements as m\\nay \\nbe required by the Committee, accompanied by payment in full as described in Section\\n 7.5.  An \\nOption may be exercised only for whole shares and may not be exercised for less than a reasonable \\nnumber of shares at any one time, as determined by the Commit\\ntee.\\n 7.5 Payment of Exercise Price\\n The exercise price for shares purchased under an Option shall be paid in full to the Company by delivery \\nof consideration equal to the product of the Option exercise price and the number of shares purchased.  Such \\nconside\\nration must be paid before the Company will issue the shares being purchased to the Participant and \\nmust be in a form or a combination of forms acceptable to the Committee for that purchase, which forms, \\nin the Committee\\n™s discretion, may include:\\n (a)\\n cash; (b)\\n check or wire transfer;\\n (c)\\n having the Company withhold shares of Common Stock that would otherwise be issued on exercise \\nof the Option that have an aggregate Fair Market Value equal to the aggregate exercise price of the \\nshares being purchased under\\n the Option;\\n -6- (d)\\n tendering (either actually or, so long as the Common Stock is registered under Section\\n 12(b) or \\n12(g) of the Exchange Act, by attestation) shares of Common Stock owned by the Participant that \\nhave an aggregate Fair Market Value equal to th\\ne aggregate exercise price of the shares being \\npurchased under the Option;\\n (e)\\n so long as the Common Stock is registered under Section\\n 12(b) or 12(g) of the Exchange Act, and \\nto the extent permitted by law, delivery of a properly executed exercise agreemen\\nt or notice, \\ntogether with irrevocable instructions to a brokerage firm designated or approved by the Company \\nto deliver promptly to the Company the aggregate amount of proceeds to pay the Option exercise \\nprice and any withholding tax obligations that may \\narise in connection with the exercise, all in \\naccordance with the regulations of the Federal Reserve Board; or\\n (f) such other consideration as the Committee may permit.\\n 7.6 Effect of Termination of Service\\n (a)\\n The Committee shall establish and set forth in\\n each instrument that evidences an Option whether \\nthe Option shall continue to be exercisable, and the terms and conditions of such exercise, after a \\nTermination of Service, any of which provisions may be waived or modified by the Committee at \\nany time.  \\n (b)\\n If the exercise of the Option following a Participant\\n™s Termination of Service, but while the Option \\nis otherwise exercisable, would be prohibited solely because the issuance of Common Stock upon \\nexercise of the Option would violate the registration re\\nquirements under the Securities Act or \\nsimilar requirements under the laws of any state or foreign jurisdiction, then the Option shall remain \\nexercisable until the earlier of (i)\\n the Option Expiration Date and (ii)\\n the expiration of a total period \\nof \\nthree\\n (3) months\\n (or such longer period of time as determined by the Committee in its sole \\ndiscretion), which time period need not be consecutive, after the Participant\\n™s Termination of \\nService during which exercise of the Option would not be in violation of th\\ne Securities Act or other \\nrequirements.\\n SECTION 8.  INCENTIVE STOCK OPTION LIMITATIONS\\n Notwithstanding any other provision of the Plan to the contrary, the terms and conditions of any Incentive \\nStock Options shall in addition comply in all respects with Se\\nction\\n 422 of the Code, or any successor \\nprovision, and any applicable regulations thereunder, including, to the extent required thereunder, the \\nfollowing:  \\n 8.1 Eligible Employees\\n Individuals who are not employees of the Company or one of its parent or sub\\nsidiary corporations (as such \\nterms are defined for purposes of Section 422 of the Code) on the Grant Date may not be granted Incentive \\nStock Options.  \\n 8.2 Dollar Limitation\\n  To the extent the aggregate Fair Market Value of Common Stock with respect to wh\\nich Incentive Stock \\nOptions are exercisable for the first time by a Participant during any calendar year exceeds $100,000 (or, if \\ndifferent, the maximum limitation in effect at the time of grant under the Code), such portion in excess of \\n$100,000 shall be \\ntreated as a Nonqualified Stock Option.  \\n -7- 8.3 Ten Percent Shareholders\\n In the case of an Incentive Stock Option granted to a Participant who owns more than 10% of the total \\ncombined voting power of all classes of the stock of the Company or of its parent o\\nr subsidiary corporations \\n(a \\nﬁTen Percent Shareholder\\nﬂ), such Option shall be granted with an exercise price per share not less than \\n110% of the Fair Market Value of the Common Stock on the Grant Date and with a maximum term of five \\nyears from the Grant Da\\nte.  The determination of more than 10% ownership shall be made in accordance \\nwith Section\\n 422 of the Code.\\n SECTION 9.  STOCK APPRECIATION RIGHTS\\n 9.1 Grant of Stock Appreciation Rights\\n The Committee may grant Stock Appreciation Rights to Participants at an\\ny time on such terms and \\nconditions as the Committee shall determine in its sole discretion.  An SAR may be granted in tandem with \\nan Option (a \\nﬁtandem SAR\\nﬂ) or alone (a \\nﬁfreestanding SAR\\nﬂ).  The grant price of a tandem SAR shall be \\nequal to the exercise p\\nrice of the related Option.  The grant price of a freestanding SAR shall be established \\nin accordance with procedures for Options set forth in Section\\n 7.2.  An SAR may be exercised upon such \\nterms and conditions and for such term as the Committee determine\\ns in its sole discretion; provided, \\nhowever, that, subject to earlier termination in accordance with the terms of the Plan and the instrument \\nevidencing the SAR, the maximum term of a freestanding SAR shall be ten years, and in the case of a \\ntandem SAR, (a\\n) the term shall not exceed the term of the related Option and (b) the tandem SAR may be \\nexercised for all or part of the shares subject to the related Option upon the surrender of the right to exercise \\nthe equivalent portion of the related Option, except \\nthat the tandem SAR may be exercised only with respect \\nto the shares for which its related Option is then exercisable.\\n 9.2 Payment of SAR Amount\\n Upon the exercise of an SAR, a Participant shall be entitled to receive payment in an amount determined \\nby mult\\niplying:  (a)\\n the excess of the Fair Market Value of the Common Stock on the date of exercise over \\nthe grant price of the SAR by (b) the number of shares with respect to which the SAR is exercised.  At the \\ndiscretion of the Committee as set forth in the in\\nstrument evidencing the Award, the payment upon exercise \\nof an SAR may be in cash, in shares, in some combination thereof or in any other manner approved by the \\nCommittee in its sole discretion.\\n SECTION 10.  STOCK AWARDS, RESTRICTED STOCK AND STOCK UNITS\\n 10.1 Grant of Stock Awards, Restricted Stock and Stock Units\\n The Committee may grant Stock Awards, Restricted Stock and Stock Units on such terms and conditions \\nand subject to such repurchase or forfeiture restrictions, if any, which may be based on contin\\nuous \\nemployment or service with the Company or a Related Company or the achievement of performance goals, \\nas the Committee shall determine in its sole discretion, which terms, conditions and restrictions shall be set \\nforth in the instrument evidencing the \\nAward.\\n 10.2 Vesting of Restricted Stock and Stock Units\\n Upon the satisfaction of any terms, conditions and restrictions prescribed with respect to Restricted Stock \\nor Stock Units, or upon a Participant\\n™s release from any terms, conditions and restrictions \\non Restricted \\nStock or Stock Units, as determined by the Committee, (a) the shares covered by each Award of Restricted \\nStock shall become freely transferable by the Participant, and (b) Stock Units shall be paid in shares of \\n-8- Common Stock or, if set forth i\\nn the instrument evidencing the Awards, in cash or a combination of cash \\nand shares of Common Stock.  Any fractional shares subject to such Awards shall be paid to the Participant \\nin cash.\\n SECTION 11.  \\nPERFORMANCE\\n AWARDS\\n 11.1 Performance Shares\\n The Committ\\nee may grant Awards of Performance Shares, designate the Participants to whom Performance \\nShares are to be awarded and determine the number of Performance Shares and the terms and conditions of \\neach such Award.  Performance Shares shall consist of a unit v\\nalued by reference to a designated number \\nof shares of Common Stock, the value of which may be paid to the Participant by delivery of shares of \\nCommon Stock or, if set forth in the instrument evidencing the Award, of such property as the Committee \\nshall de\\ntermine, including, without limitation, cash, shares of Common Stock, other property, or any \\ncombination thereof, upon the attainment of performance goals, as established by the Committee, and other \\nterms and conditions specified by the Committee.  The amo\\nunt to be paid under an Award of Performance \\nShares may be adjusted on the basis of such further consideration as the Committee shall determine in its \\nsole discretion.\\n 11.2 Performance Units\\n The Committee may grant Awards of Performance Units, designate th\\ne Participants to whom Performance \\nUnits are to be awarded and determine the number of Performance Units and the terms and conditions of \\neach such Award.  Performance Units shall consist of a unit valued by reference to a designated amount of \\nproperty othe\\nr than shares of Common Stock, which value may be paid to the Participant by delivery of \\nsuch property as the Committee shall determine, including, without limitation, cash, shares of Common \\nStock, other property, or any combination thereof, upon the attai\\nnment of performance goals, as established \\nby the Committee, and other terms and conditions specified by the Committee.  The amount to be paid \\nunder an Award of Performance Units may be adjusted on the basis of such further consideration as the \\nCommittee s\\nhall determine in its sole discretion.\\n SECTION 12.  OTHER STOCK OR CASH\\n-BASED AWARDS\\n Subject to the terms of the Plan and such other terms and conditions as the Committee deems appropriate, \\nthe Committee may grant other incentives payable in cash or in sha\\nres of Common Stock under the Plan.\\n SECTION 13.  WITHHOLDING\\n (a)\\n The Company or a Related Company may require the Participant to pay to the Company or a \\nRelated Company, as applicable, the amount of (i) any taxes that the Company or a Related \\nCompany is re\\nquired by applicable federal, state, local or foreign law to withhold with respect to \\nthe grant, vesting or exercise of an Award (\\nﬁtax withholding obligations\\nﬂ) and (ii) any amounts \\ndue from the Participant to the Company or any Related Company (\\nﬁother obl\\nigations\\nﬂ).  \\nNotwithstanding any other provision of the Plan to the contrary, the Company shall not be required \\nto issue any shares of Common Stock or otherwise settle an Award under the Plan until such tax \\nwithholding obligations and other obligations are\\n satisfied.\\n (b)\\n The Committee, its sole discretion, may permit or require a Participant to satisfy all or part of the \\nParticipant\\n™s tax withholding obligations and other obligations by (i)\\n paying cash to the Company \\nor a Related Company, as applicable, (ii\\n) having the Company or a Related Company withhold an \\namount from any cash amounts otherwise due or to become due from the Company or a Related \\n-9- Company to the Participant, (iii)\\n having the Company withhold a number of shares of Common \\nStock that would othe\\nrwise be issued to the Participant (or become vested, in the case of Restricted \\nStock) having a Fair Market Value equal to the tax withholding obligations and other obligations, \\n(iv)\\n surrendering a number of shares of Common Stock the Participant already o\\nwns having a value \\nequal to the tax withholding obligations and other obligations, (v) selling shares of Common Stock \\nissued under an Award on the open market or to the Company, or (vi) taking such other action as \\nmay be necessary in the opinion of the Com\\nmittee to satisfy any applicable tax withholding \\nobligations.  The value of the shares so withheld or tendered may not exceed the employer\\n™s \\nminimum required tax withholding rate; provided, however, that, in the discretion of the Committee \\nand to the exten\\nt permitted under applicable financial accounting standards, the value of shares so \\nwithheld or tendered may exceed the employer\\n™s minimum required tax withholding rate but may \\nnot be greater than the maximum tax withholding rate, so long as the exercise o\\nf such discretion by \\nthe Committee would not result in adverse treatment for financial accounting purposes.\\n SECTION 14.  ASSIGNABILITY\\n No Award or interest in an Award may be sold, assigned, pledged (as collateral for a loan or as security for \\nthe performa\\nnce of an obligation or for any other purpose) or transferred by a Participant or made subject \\nto attachment or similar proceedings otherwise than by will or by the applicable laws of descent and \\ndistribution, except to the extent the Participant designate\\ns one or more beneficiaries on a Company\\n-approved form who may exercise the Award or receive payment under the Award after the Participant\\n™s death.  During a Participant\\n™s lifetime, an Award may be exercised only by the Participant.  Notwithstanding \\nthe fo\\nregoing, and to the extent permitted by Section\\n 422 of the Code and applicable securities laws, the \\nCommittee, in its sole discretion, may permit a Participant to assign or transfer an Award subject to such \\nterms and conditions as the Committee shall speci\\nfy.\\n SECTION 15.  ADJUSTMENTS\\n 15.1 Adjustment of Shares\\n (a)\\n In the event, at any time or from time to time, a stock dividend, stock split, spin\\n-off, combination \\nor exchange of shares, recapitalization, merger, consolidation, statutory share exchange, \\ndistri\\nbution to shareholders other than a normal cash dividend, or other change in the Company\\n™s corporate or capital structure, results in (i)\\n the outstanding shares of Common Stock, or any \\nsecurities exchanged therefor or received in their place, being exchang\\ned for a different number or \\nkind of securities of the Company or of any other Company or (ii)\\n new, different or additional \\nsecurities of the Company or of any other company being received by the holders of shares of \\nCommon Stock, then the Committee shall \\nmake proportional adjustments in (1)\\n the maximum \\nnumber and kind of securities available for issuance under the Plan; (2)\\n the maximum number and \\nkind of securities issuable as Incentive Stock Options as set forth in Section\\n 4.2(d); and (3)\\n the \\nnumber and k\\nind of securities that are subject to any outstanding Award and the per share price of \\nsuch securities.  The determination by the Committee as to the terms of any of the foregoing \\nadjustments shall be conclusive and binding.\\n (b)\\n The Committee may also make\\n adjustments as described in Section 15.1(a)(1)\\n-(3) in the event of \\nany distribution of assets or cash to shareholders other than a normal cash dividend.  In determining \\nadjustments to be made under this Section 15.1(b), the Committee may take into account such \\nfactors as it deems appropriate, including (\\ni) the restrictions of applicable law and (ii) potential tax \\nand accounting consequences of an adjustment and may make adjustments that are not uniform or \\nproportionate among outstanding Awards.  Any such adjustments to outstanding Awards shall be \\neffected\\n in a manner that precludes the enlargement of rights and benefits under such Awards.  \\n -10- (c)\\n Adjustments, if any, and any determinations or interpretations, including any determination of \\nwhether a distribution is other than a normal cash dividend, made by \\nthe Committee as to the terms \\nof any of the foregoing adjustments, shall be conclusive and binding.  Notwithstanding the \\nforegoing, the issuance by the Company of shares of stock of any class, or securities convertible \\ninto shares of stock of any class, fo\\nr cash or property, or for labor or services rendered, either upon \\ndirect sale or upon the exercise of rights or warrants to subscribe therefor, or upon conversion of \\nshares or obligations of the Company convertible into such shares or other securities, sh\\nall not \\naffect, and no adjustment by reason thereof shall be made with respect to, outstanding Awards.  \\nAlso notwithstanding the foregoing, a dissolution or liquidation of the Company or a Change in \\nControl shall not be governed by this Section\\n 15.1 but sh\\nall be governed by Sections\\n 15.2 and 15.3, \\nrespectively.\\n 15.2 Dissolution or Liquidation\\n To the extent not previously exercised or settled, and unless otherwise determined by the Committee in its \\nsole discretion, Awards shall terminate immediately prior to\\n the dissolution or liquidation of the Company.  \\nTo the extent a vesting condition, forfeiture provision or repurchase right applicable to an Award has not \\nbeen waived by the Committee, the Award shall be forfeited immediately prior to the consummation of \\nthe \\ndissolution or liquidation.\\n 15.3 Change in Control \\n Notwithstanding any other provision of the Plan to the contrary, unless the Committee shall determine \\notherwise in the instrument evidencing the Award or in a written employment, services or other agr\\neement \\nbetween a Participant and the Company or a Related Company, in the event of a Change in Control:\\n (a)\\n If the Change in Control is a Company Transaction in which Awards, other than Performance \\nShares, Performance Units or other performance\\n-based Award\\ns, could be converted, assumed, \\nsubstituted for or replaced by the Successor Company, then, if and to the extent that the Successor \\nCompany converts, assumes, substitutes for or replaces an Award, the vesting restrictions and/or \\nforfeiture provisions appli\\ncable to such Award shall not be accelerated or lapse, and all such vesting \\nrestrictions and/or forfeiture provisions shall continue with respect to any shares of the Successor \\nCompany or other consideration that may be received with respect to such Award.\\n  If and to the \\nextent that such Awards are not converted, assumed, substituted for or replaced by the Successor \\nCompany or the Change in Control is not a Company Transaction in which Awards could be \\nconverted, assumed, substituted for or replaced, such ou\\ntstanding Awards, other than Performance \\nShares, Performance Units or other performance\\n-based Awards, shall become fully vested and \\nexercisable or payable, and all applicable restrictions or forfeiture provisions shall lapse, \\nimmediately prior to the Chang\\ne in Control and such Awards shall terminate at the effective time \\nof the Change in Control.\\n For the purposes of this Section\\n 15.3(a), an Award shall be considered converted, assumed, \\nsubstituted for or replaced by the Successor Company if following the Change in Control, the \\nAward confers the right to purchase or receive, for each share of Common\\n Stock subject to the \\nAward immediately prior to the Change in Control, the consideration (whether stock, cash or other \\nsecurities or property) received in the Change in Control by holders of Common Stock for each \\nshare held on the effective date of the tr\\nansaction (and if holders were offered a choice of \\nconsideration, the type of consideration chosen by the holders of a majority of the outstanding \\nshares); provided, however, that if such consideration received in the Change in Control is not \\nsolely common\\n stock of the Successor Company, the Committee may, with the consent of the \\nSuccessor Company, provide for the consideration to be received pursuant to the Award, for each \\n-11- share of Common Stock subject thereto, to be solely common stock of the Successor Co\\nmpany \\nsubstantially equal in fair market value to the per share consideration received by holders of \\nCommon Stock in the Change in Control.  The determination of such substantial equality of value \\nof consideration shall be made by the Committee, and its de\\ntermination shall be conclusive and \\nbinding.\\n (b)\\n All Performance Shares, Performance Units or other performance\\n-based Awards earned and \\noutstanding as of the date the Change in Control is determined to have occurred and for which the \\npayout level has been \\ndetermined shall be payable in full in accordance with the payout schedule \\npursuant to the instrument evidencing the Award.  Any outstanding Performance Shares, \\nPerformance Units or other performance\\n-based Awards (including any applicable performance \\nperio\\nd) for which the payout level has not been determined shall be prorated at the target payout \\nlevel up to and including the date of such Change in Control and shall be payable in accordance \\nwith the payout schedule pursuant to the instrument evidencing the \\nAward.  Any existing deferrals \\nor other restrictions not waived by the Committee in its sole discretion shall remain in effect.\\n (c)\\n Notwithstanding the foregoing, the Committee, in its sole discretion, may instead provide in the \\nevent of a Change in Contro\\nl that a Participant\\n™s outstanding Awards shall terminate upon or \\nimmediately prior to such Change in Control and that such Participant shall receive, in exchange \\ntherefor, a cash payment equal to the amount (if any) by which (x)\\n the value of the per share\\n consideration received by holders of Common Stock in the Change in Control, or, in the event the \\nChange in Control is one of the transactions listed under subsection (c) in the definition of Company \\nTransaction or otherwise does not result in direct recei\\npt of consideration by holders of Common \\nStock, the value of the deemed per share consideration received, in each case as determined by the \\nCommittee in its sole discretion, multiplied by the number of shares of Common Stock subject to \\nsuch outstanding Awa\\nrds (to the extent then vested and exercisable or whether or not then vested \\nand exercisable, as determined by the Committee in its sole discretion) exceeds (y) if applicable,\\n the \\nrespective aggregate exercise price or grant price for such Awards.\\n (d)\\n For \\nthe avoidance of doubt, nothing in this Section 15.3 requires all outstanding Awards (or \\nportions thereof) to be treated similarly.\\n 15.4 Further Adjustment of Awards\\n Subject to Sections\\n 15.2 and 15.3, the Committee shall have the discretion, exercisable at\\n any time before \\na sale, merger, consolidation, statutory share exchange,\\n reorganization, liquidation, dissolution or change \\nof control of the Company, as defined by the Committee, to take such further action as it determines to be \\nnecessary or advisable w\\nith respect to Awards.  Such authorized action may include (but shall not be limited \\nto) establishing, amending or waiving the type, terms, conditions or duration of, or restrictions on, Awards \\nso as to provide for earlier, later, extended or additional ti\\nme for exercise, lifting restrictions and other \\nmodifications, and the Committee may take such actions with respect to all Participants, to certain \\ncategories of Participants or only to individual Participants.  The Committee may take such action before \\nor after granting Awards to which the action relates and before or after any public announcement with \\nrespect to such sale, merger, consolidation, statutory share exchange, reorganization, liquidation, \\ndissolution or change of control that is the reason for \\nsuch action.\\n 15.5 No Limitations\\n The grant of Awards shall in no way affect the Company\\n™s right to adjust, reclassify, reorganize or otherwise \\nchange its capital or business structure or to merge, consolidate, dissolve, liquidate or sell or transfer all or\\n any part of its business or assets.\\n -12- 15.6 No Fractional Shares\\n In the event of any adjustment in the number of shares covered by any Award, each such Award shall cover \\nonly the number of full shares resulting from such adjustment, and any fractional shares\\n resulting from such \\nadjustment shall be disregarded.\\n 15.7 Section 409A\\n Notwithstanding any other provision of the Plan to the contrary, (a) any adjustments made pursuant to this \\nSection\\n 15 to Awards that are considered \\nﬁdeferred compensation\\nﬂ within the m\\neaning of Section\\n 409A \\nshall be made in compliance with the requirements of Section\\n 409A and (b) any adjustments made pursuant \\nto this Section\\n 15 to Awards that are not considered \\nﬁdeferred compensation\\nﬂ subject to Section\\n 409A shall \\nbe made in such a mann\\ner intended to ensure that after such adjustment the Awards either (i) continue not \\nto be subject to Section\\n 409A or (ii) comply with the requirements of Section\\n 409A.\\n SECTION\\n 16.  MARKET STANDOFF\\n In the event of an underwritten public offering by the Comp\\nany of its equity securities pursuant to an \\neffective registration statement filed under the Securities Act, including the Company\\n™s initial public \\noffering, no person may sell, make any short sale of, loan, hypothecate, pledge, assign, grant any option fo\\nr the purchase of, or otherwise dispose of or transfer for value or otherwise agree to engage in any of the \\nforegoing transactions with respect to any shares issued pursuant to an Award granted under the Plan \\nwithout the prior written consent of the Compan\\ny or its underwriters.  Such limitations shall be in effect for \\nsuch period of time as may be requested by the Company or such underwriters;\\n provided, however, that in \\nno event shall such period exceed (a) 180\\n days after the effective date of the registrat\\nion statement for such \\npublic offering or (b) such longer period requested by the underwriters as is necessary to comply with \\nregulatory restrictions on the publication of research reports (including, but not limited to, FINRA \\nRule\\n 2241, or any amendments \\nor successor rules thereto).  The limitations of this Section\\n 16 shall in all \\nevents terminate two years after the effective date of the Company\\n™s initial public offering.\\n SECTION 17.  AMENDMENT AND TERMINATION\\n 17.1 Amendment, Suspension or Termination\\n The\\n Board or the Compensation Committee may amend, suspend or terminate the Plan or any portion of \\nthe Plan at any time and in such respects as it shall deem advisable; provided, however, that shareholder \\napproval shall be required for any amendment to the Pl\\nan to the extent required by applicable law, regulation \\nor stock exchange rule; and provided, further, that the Board shall be required to approve any amendment \\nthat requires shareholder approval.  Subject to Section\\n 17.3, the Committee may amend the terms\\n of any \\noutstanding Award, prospectively or retroactively.\\n 17.2 Term of the Plan\\n Unless sooner terminated as provided herein, the Plan shall automatically terminate on the tenth anniversary \\nof the earlier of (a) the date the Board adopted the Plan and (b) \\nthe date the shareholders approved the Plan.  \\nAfter the Plan is terminated, no future Awards may be granted, but Awards previously granted shall remain \\noutstanding in accordance with their terms and conditions and the Plan\\n™s terms and conditions.  \\n -13- 17.3 Consent of Participant\\n The amendment, suspension or termination of the Plan or a portion thereof or the amendment of an \\noutstanding Award shall not, without the Participant\\n™s consent, materially adversely affect any rights under \\nany Award theretofore granted\\n to the Participant under the Plan.  Any change or adjustment to an \\noutstanding Incentive Stock Option shall not, without the consent of the Participant, be made in a manner \\nso as to constitute a \\nﬁmodification\\nﬂ that would cause such Incentive Stock Option \\nto fail to continue to \\nqualify as an Incentive Stock Option.  Notwithstanding the foregoing, any adjustments made pursuant to \\nSection\\n 15 shall not be subject to these restrictions.\\n SECTION 18.  GENERAL\\n 18.1 No Individual Rights\\n No individual or Participant\\n shall have any claim to be granted any Award under the Plan, and the Company \\nhas no obligation for uniformity of treatment of Participants under the Plan.\\n Furthermore, nothing in the Plan or any Award granted under the Plan shall be deemed to constitute a\\nn employment contract or confer or be deemed to confer on any Participant any right to continue in the employ \\nof, or to continue any other relationship with, the Company or any Related Company or limit in any way \\nthe right of the Company or any Related Com\\npany to terminate a Participant\\n™s employment or other \\nrelationship at any time, with or without cause.\\n 18.2 Issuance of Shares\\n (a)\\n Notwithstanding any other provision of the Plan, the Company shall have no obligation to issue or \\ndeliver any shares of \\nCommon Stock under the Plan or make any other distribution of benefits \\nunder the Plan unless, in the opinion of the Company\\n™s counsel, such issuance, delivery or \\ndistribution would comply with all applicable laws (including, without limitation, the require\\nments \\nof the Securities Act or the laws of any state or foreign jurisdiction) and the applicable requirements \\nof any securities exchange or similar entity.\\n (b)\\n The Company shall be under no obligation to any Participant to register for offering or resale o\\nr to \\nqualify for exemption under the Securities Act, or to register or qualify under the laws of any state \\nor foreign jurisdiction, any shares of Common Stock, security or interest in a security paid or issued \\nunder, or created by, the Plan, or to continue\\n in effect any such registrations or qualifications if \\nmade.\\n (c)\\n As a condition to the exercise of an Option or any other receipt of Common Stock pursuant to an \\nAward under the Plan, the Company may require (i)\\n the Participant to represent and warrant at t\\nhe \\ntime of any such exercise or receipt that such shares are being purchased or received only for the \\nParticipant\\n™s own account and without any present intention to sell or distribute such shares and \\n(ii)\\n such other action or agreement by the Participant a\\ns may from time to time be necessary to \\ncomply with federal, state and foreign securities laws.  At the option of the Company, a stop\\n-transfer order against any such shares may be placed on the official stock books and records of the \\nCompany, and a legend \\nindicating that such shares may not be pledged, sold or otherwise \\ntransferred, unless an opinion of counsel is provided (concurred in by counsel for the Company) \\nstating that such transfer is not in violation of any applicable law or regulation, may be sta\\nmped on \\nstock certificates to ensure exemption from registration.  The Committee may also require the \\nParticipant to execute and deliver to the Company a purchase agreement or such other agreement \\n-14- as may be in use by the Company at such time that describes\\n certain terms and conditions applicable \\nto the shares.\\n (d)\\n To the extent the Plan or any instrument evidencing an Award provides for issuance of stock \\ncertificates to reflect the issuance of shares of Common Stock, the issuance may be effected on a \\nnoncer\\ntificated basis, to the extent not prohibited by applicable law or the applicable rules of any \\nstock exchange.\\n 18.3 Indemnification\\n (a)\\n Each person who is or shall have been a member of the Board, the Compensation Committee, or a \\ncommittee of the Board or \\nan officer of the Company to whom authority to administer the Plan is \\ndelegated in accordance with Section 3.1, shall be indemnified and held harmless by the Company \\nagainst and from any loss, cost, liability or expense that may be imposed upon or reasonab\\nly \\nincurred by such person in connection with or resulting from any claim, action, suit or proceeding \\nto which such person may be a party or in which such person may be involved by reason of any \\naction taken or failure to act under the Plan and against and\\n from any and all amounts paid by such \\nperson in settlement thereof, with the Company\\n™s approval, or paid by such person in satisfaction \\nof any judgment in any such claim, action, suit or proceeding against such person, unless such loss, \\ncost, liability or\\n expense is a result of such person\\n™s own willful misconduct or except as expressly \\nprovided by statute; provided, however, that such person shall give the Company an opportunity, \\nat its own expense, to handle and defend the same before such person underta\\nkes to handle and \\ndefend it on such person\\n™s own behalf.\\n (b)\\n The foregoing right of indemnification shall not be exclusive of any other rights of indemnification \\nto which such person may be entitled under the Company\\n™s articles of incorporation or bylaws, \\nas \\na matter of law, or otherwise, or of any power that the Company may have to indemnify or hold \\nharmless.\\n 18.4 No Rights as a Shareholder\\n Unless otherwise provided by the Committee or in the instrument evidencing the Award or in a written \\nemployment, serv\\nices or other agreement, no Award, other than a Stock Award or Restricted Stock Award, \\nshall entitle the Participant to any cash dividend, voting or other right of a shareholder unless and until the \\ndate of issuance under the Plan of the shares that are th\\ne subject of such Award.\\n 18.5 Compliance with Laws and Regulations\\n (a)\\n In interpreting and applying the provisions of the Plan, any Option granted as an Incentive Stock \\nOption pursuant to the Plan shall, to the extent permitted by law, be construed as an \\nﬁincentive \\nstock option\\nﬂ within the meaning of Section\\n 422 of the Code.\\n (b)\\n The Plan and Awards granted under the Plan are intended to be exempt from the requirements of \\nSection\\n 409A to the maximum extent possible, whether pursuant to the short\\n-term deferra\\nl exception described in Treasury Regulation Section 1.409A\\n-1(b)(4), the exclusion applicable to \\nstock options, stock appreciation rights and certain other equity\\n-based compensation under \\nTreasury Regulation Section 1.409A\\n-1(b)(5), or otherwise.  To the ex\\ntent Section\\n 409A is \\napplicable to the Plan or any Award granted under the Plan, it is intended that the Plan and any \\nAwards granted under the Plan shall comply with the deferral, payout and other limitations and \\nrestrictions imposed under Section 409A.  N\\notwithstanding any other provision of the Plan or any \\nAward granted under the Plan to the contrary, the Plan and any Award granted under the Plan shall \\n-15- be interpreted, operated and administered in a manner consistent with such intentions.  Without \\nlimiting\\n the generality of the foregoing, and notwithstanding any other provision of the Plan or any \\nAward granted under the Plan to the contrary, with respect to any payments and benefits under the \\nPlan or any Award granted under the Plan to which Section\\n 409A ap\\nplies, all references in the Plan \\nor any Award granted under the Plan to the termination of the Participant\\n™s employment or service \\nare intended to mean the Participant\\n™s ﬁseparation from service,\\nﬂ within the meaning of \\nSection\\n 409A(a)(2)(A)(i).  In additi\\non, if the Participant is a \\nﬁspecified employee,\\nﬂ within the \\nmeaning of Section\\n 409A, then to the extent necessary to avoid subjecting the Participant to the \\nimposition of any additional tax under Section\\n 409A, amounts that would otherwise be payable \\nunder\\n the Plan or any Award granted under the Plan during the six\\n-month period immediately \\nfollowing the Participant\\n™s ﬁseparation from service,\\nﬂ within the meaning of \\nSection\\n 409A(a)(2)(A)(i), shall not be paid to the Participant during such period, but shall \\ninstead \\nbe accumulated and paid to the Participant (or, in the event of the Participant\\n™s death, the \\nParticipant\\n™s estate) in a lump sum on the first business day after the earlier of the date that is six \\nmonths following the Participant\\n™s separation from \\nservice or the Participant\\n™s death.  \\n Notwithstanding any other provision of the Plan to the contrary, the Committee, to the extent it \\ndeems necessary or advisable in its sole discretion, reserves the right, but shall not be required, to \\nunilaterally amend\\n or modify the Plan and any Award granted under the Plan so that the Award \\nqualifies for exemption from or complies with Section 409A; provided, however, that the \\nCommittee makes no representations that Awards granted under the Plan shall be exempt from or\\n comply with Section 409A and makes no undertaking to preclude Section 409A from applying to \\nAwards granted under the Plan.\\n (c)\\n Also \\nnotwithstanding any other provision of the Plan to the contrary, the Board or the \\nCompensation Committee shall have broad a\\nuthority to amend the Plan or any outstanding Award \\nwithout the consent of the Participant to the extent the Board or the Compensation Committee \\ndeems necessary or advisable to comply with, or take into account, changes in applicable tax laws, \\nsecurities l\\naws, accounting rules or other applicable laws, rules or regulations.\\n 18.6 Participants in Other Countries or Jurisdictions\\n Without amending the Plan, the Committee may grant Awards to Eligible Persons who are foreign nationals \\non such terms and conditions\\n different from those specified in the Plan as may, in the judgment of the \\nCommittee, be necessary or desirable to foster and promote achievement of the purposes of the Plan and \\nshall have the authority to adopt such modifications, procedures, subplans and\\n the like as may be necessary \\nor desirable to comply with provisions of the laws or regulations of other countries or jurisdictions in which \\nthe Company or any Related Company may operate or have employees to ensure the viability of the benefits \\nfrom Award\\ns granted to Participants employed in such countries or jurisdictions, meet the requirements \\nthat permit the Plan to operate in a qualified or tax\\n-efficient manner, comply with applicable foreign laws \\nor regulations and meet the objectives of the Plan.\\n 18.7 No Trust or Fund\\n The Plan is intended to constitute an \\nﬁunfunded\\nﬂ plan.  Nothing contained herein shall require the Company \\nto segregate any monies or other property, or shares of Common Stock, or to create any trusts, or to make \\nany special deposits for\\n any immediate or deferred amounts payable to any Participant, and no Participant \\nshall have any rights that are greater than those of a general unsecured creditor of the Company.\\n -16- 18.8 Successors\\n All obligations of the Company under the Plan with respect t\\no Awards shall be binding on any successor to \\nthe Company, whether the existence of such successor is the result of a direct or indirect purchase, merger, \\nconsolidation, or otherwise, of all or substantially all the business and/or assets of the Company.\\n 18.9 Severability\\n If any provision of the Plan or any Award is determined to be invalid, illegal or unenforceable in any \\njurisdiction, or as to any person, or would disqualify the Plan or any Award under any law deemed \\napplicable by the Committee, such prov\\nision shall be construed or deemed amended to conform to \\napplicable laws, or, if it cannot be so construed or deemed amended without, in the Committee\\n™s determination, materially altering the intent of the Plan or the Award, such provision shall be stricke\\nn as to \\nsuch jurisdiction, person or Award, and the remainder of the Plan and any such Award shall remain in full \\nforce and effect.\\n 18.10 Choice of Law and Venue\\n The Plan, all Awards granted thereunder and all determinations made and actions taken pursuant\\n hereto, to \\nthe extent not otherwise governed by the laws of the United States, shall be governed by the laws of the \\nState of Washington without giving effect to principles of conflicts of law.  Participants irrevocably consent \\nto the nonexclusive jurisdic\\ntion and venue of the state and federal courts located in the State of Washington. \\n 18.11 Legal Requirements\\n The granting of Awards and the issuance of shares of Common Stock under the Plan are subject to all \\napplicable laws, rules and regulations and to s\\nuch approvals by any governmental agencies or national \\nsecurities exchanges as may be required.\\n 18.12  Electronic Communication \\n Any document required to be delivered under the Plan, including under applicable laws, may be delivered \\nin writing or electroni\\ncally. Signature may also be electronic if permitted by the Company.\\n 18.13 Recoupment\\n Awards shall be subject to the requirements of (a) Section 954 of the Dodd\\n-Frank Wall Street Reform and \\nConsumer Protection Act (regarding recovery of erroneously awarded\\n compensation) and any \\nimplementing rules and regulations thereunder, (b) similar rules under the laws of any other jurisdiction, \\n(c) any compensation recovery or clawback policies adopted by the Company to implement any such \\nrequirements or (d) any other \\ncompensation recovery or clawback policies as may be adopted from time to \\ntime by the Company, all to the extent determined by the Committee in its discretion to be applicable to a \\nParticipant.\\n SECTION 19.  EFFECTIVE DATE\\n The Plan will \\nbecome effective \\non the date the Board adopts the Plan (the \\nﬁEffective Date\\nﬂ); provided, \\nhowever, that no Awards may be granted prior to the IPO Date.  If the shareholders of the Company do not \\napprove the Plan within 12\\n months after the Effective Date, any Incentive Stock Op\\ntions granted under the \\nPlan shall be treated as Nonqualified Stock Options.\\n   APPENDIX\\n A DEFINITIONS\\n As used in the Plan,\\n ﬁAcquired Entity\\nﬂ means any entity acquired by the Company or a Related Company or with which the \\nCompany o\\nr a Related Company merges or combines.\\n ﬁAward\\nﬂ means any Option, Stock Appreciation Right, Stock Award, Restricted Stock, Stock Unit, \\nPerformance Share, Performance Unit, cash\\n-based award or other incentive payable in cash or in shares of \\nCommon Stock as \\nmay be designated by the Committee from time to time.\\n ﬁBoard\\nﬂ means the Board of Directors of the Company.\\n ﬁCause\\n,ﬂ unless otherwise defined in the instrument evidencing an Award or in a written employment, \\nservices or other agreement between the Participant and the Company or a Related Company, means \\ndishonesty, fraud, serious or willful misconduct, unauthorized use o\\nr disclosure of confidential information \\nor trade secrets, or conduct prohibited by law (except minor violations), in each case as determined by the \\nCompany\\n™s chief human resources officer or other person performing that function or, in the case of \\ndirecto\\nrs and executive officers, the Compensation Committee, whose determination shall be conclusive \\nand binding.  \\n ﬁChange in Control\\n,ﬂ unless the Committee determines otherwise with respect to an Award at the time the \\nAward is granted or unless otherwise defin\\ned for purposes of an Award in a written employment, services \\nor other agreement between the Participant and the Company or a Related Company, means the occurrence \\nof any of the following events:\\n (a)\\n an acquisition by any Entity of beneficial ownership (wi\\nthin the meaning of Rule 13d\\n-3 promulgated under the Exchange Act) of 50% or more of either (1) the number of then outstanding \\nshares of Common Stock (the \\nﬁOutstanding Company Common Stock\\nﬂ) or (2) the combined \\nvoting power of the then outstanding voting s\\necurities of the Company entitled to vote generally in \\nthe election of directors (the \\nﬁOutstanding Company Voting Securities\\nﬂ); provided, however, that \\nthe following acquisitions shall not constitute a Change in Control:  (i) any acquisition directly \\nfrom \\nthe Company, other than an acquisition by virtue of the exercise of a conversion privilege \\nwhere the security being so converted was not acquired directly from the Company by the party \\nexercising the conversion privilege, (ii) any acquisition by the Compan\\ny, (iii) any acquisition by \\nany employee benefit plan (or related trust) sponsored or maintained by the Company or any \\nRelated Company, (iv) any additional acquisition by an Entity then considered to own more than \\n50% of the Outstanding Company Common Stoc\\nk or Outstanding Company Voting Securities; or \\n(v) any acquisition by any Entity pursuant to a transaction that meets the conditions of clauses (i), \\n(ii) and (iii) set forth in the definition of Company Transaction; \\n (b)\\n a change in the composition of the \\nBoard during any two\\n-year period such that the individuals who, \\nas of the beginning of such two\\n-year period, constitute the Board (the \\nﬁIncumbent Board\\nﬂ) cease \\nfor any reason to constitute at least a majority of the Board; provided, however, that for purpo\\nses \\nof this definition, any individual who becomes a member of the Board subsequent to the beginning \\nof the two\\n-year period, whose election, or nomination for election by the Company\\n™s shareholders, \\nwas approved by a vote of at least a majority of those in\\ndividuals who are members of the Board \\nand who were also members of the Incumbent Board (or deemed to be such pursuant to this proviso) \\n A-2 shall be considered as though such individual were a member of the Incumbent Board; and provided \\nfurther, however, that \\nany such individual whose initial assumption of office occurs as a result of \\nor in connection with an actual or threatened election contest with respect to the election or removal \\nof directors or other actual or threatened solicitation of proxies or consen\\nts by or on behalf of an \\nEntity other than the Board shall not be considered a member of the Incumbent Board; or\\n (c)\\n the consummation of a Company Transaction.\\n Where a series of transactions undertaken with a common purpose is deemed to be a Change in Cont\\nrol, \\nthe date of such Change in Control shall be the date on which the last of such transactions is consummated.\\n ﬁCode\\nﬂ means the Internal Revenue Code of 1986, as amended from time to time.  Any reference to a \\nsection of the Code will be deemed to include\\n a reference to any regulations promulgated thereunder.\\n ﬁCommittee\\nﬂ has the meaning set forth in Section 3.1.\\n ﬁCommon Stock\\nﬂ means the common stock, par value $0.0001 per share, of the Company.\\n ﬁCompany\\nﬂ means Avalara, Inc., a Washington corporation.\\n ﬁComp\\nany Transaction\\n,ﬂ unless the Committee determines otherwise with respect to an Award at the time \\nthe Award is granted or unless otherwise defined for purposes of an Award in a written employment, \\nservices or other agreement between the Participant and the \\nCompany or a Related Company, means \\nconsummation of:\\n (a)\\n a merger or consolidation of the Company with or into any other company;\\n (b)\\n a statutory share exchange pursuant to which all of the Company\\n™s outstanding shares are acquired \\nor a sale in one transac\\ntion or a series of transactions undertaken with a common purpose of all of \\nthe Outstanding Company Voting Securities; or\\n (c)\\n a sale, lease, exchange or other transfer in one transaction or a series of related transactions \\nundertaken with a common purpose \\nof all or substantially all of the Company\\n™s assets, \\n excluding, however, in each case, any such transaction pursuant to which\\n (i)\\n the Entities who are the beneficial owners of the Outstanding Company Common Stock and the \\nOutstanding Company Voting Securit\\nies immediately prior to such transaction will beneficially \\nown, directly or indirectly, at least 50% of the outstanding shares of common stock, and the \\ncombined voting power of the then outstanding voting securities entitled to vote generally in the \\nelect\\nion of directors, of the Successor Company in substantially the same proportions as their \\nownership, immediately prior to such transaction, of the Outstanding Company Common Stock \\nand the Outstanding Company Voting Securities; \\n (ii)\\n no Entity (other than t\\nhe Company, any employee benefit plan (or related trust) of the Company, a \\nRelated Company or a Successor Company) will beneficially own, directly or indirectly, more than \\n50% of the outstanding shares of common stock of the Successor Company or the combin\\ned voting \\npower of the outstanding voting securities of the Successor Company entitled to vote generally in \\nthe election of directors, unless such ownership resulted solely from ownership of securities of the \\nCompany prior to such transaction; and\\n  A-3 (iii)\\n individuals who were members of the Incumbent Board will immediately after the consummation \\nof such transaction constitute at least a majority of the members of the board of directors of the \\nSuccessor Company.\\n Where a series of transactions undertaken with a\\n common purpose is deemed to be a Company Transaction, \\nthe date of such Company Transaction shall be the date on which the last of such transactions is \\nconsummated.\\n ﬁCompensation Committee\\nﬂ means the Compensation and Leadership Development Committee of the\\n Board (or a subcommittee thereof of at least two members).\\n ﬁDisability\\n,ﬂ unless otherwise defined by the Committee for purposes of the Plan in the instrument \\nevidencing an Award or in a written employment, services or other agreement between the Participa\\nnt and \\nthe Company or a Related Company, means a mental or physical impairment of the Participant that is \\nexpected to result in death or that has lasted or is expected to last for a continuous period of 12\\n months or \\nmore and that causes the Participant to \\nbe unable to perform his or her material duties for the Company or \\na Related Company and to be engaged in any substantial gainful activity, in each case as determined by the \\nCompany\\n™s chief human resources officer or other person performing that function o\\nr, in the case of \\ndirectors and executive officers, the Compensation Committee, whose determination shall be conclusive \\nand binding.\\n ﬁEffective Close Date\\nﬂ the date of the closing of an initial public offering of the Common Stock.\\n ﬁEffective Date\\nﬂ has the meaning set forth in Section \\n19. ﬁEligible Person\\nﬂ means any person eligible to receive an Award as set forth in Section\\n 5. ﬁEntity\\nﬂ means any individual, entity or group (within the meaning of Section\\n 13(d)(3) or Section 14(d)(2) \\nof the Exchange \\nAct).\\n ﬁExchange Act\\nﬂ means the Securities Exchange Act of 1934, as amended from time to time.\\n ﬁFair Market Value\\nﬂ means, as of any given date, (a) if the principal market for the Common Stock is a \\nnational securities exchange or an established securities m\\narket, the closing sales price\\n per share of \\nCommon Stock during regular session trading, or if not trading on that date, such price on the last preceding \\ndate on which the Common Stock was traded; (b) if the principal market for the Common Stock is not a \\nnational securities exchange or an established securities market, the average of the highest bid and lowest \\nasked prices for the Common Stock as reported on a national quotation system, or if not quoted on that \\ndate, such price on the last preceding date on\\n which the prices were quoted; or (c) the per share value \\notherwise determined by the Committee using such reasonable methods or procedures as it may establish. \\n ﬁGrant Date\\nﬂ means the later of (a)\\n the date on which the Committee completes the corporate ac\\ntion \\nauthorizing the grant of an Award or such later date specified by the Committee and (b)\\n the date on which \\nall conditions precedent to an Award have been satisfied, provided that conditions to the exercisability or \\nvesting of Awards shall not defer the\\n Grant Date.\\n ﬁIncentive Stock Option\\nﬂ means an Option granted with the intention that it qualify as an \\nﬁincentive stock \\noption\\nﬂ as that term is defined for purposes of Section 422 of the Code or any successor provision.\\n ﬁIncumbent Board\\nﬂ has the meaning se\\nt forth in the definition of \\nﬁChange in Control.\\nﬂ  A-4 ﬁIPO Date\\nﬂ means the date of the underwriting agreement between the Company and the underwriter(s) \\nmanaging the initial public offering of the Common Stock, pursuant to which the Common Stock is priced \\nfor \\nthe initial public offering.\\n ﬁNonqualified Stock Option\\nﬂ means an Option other than an Incentive Stock Option.\\n ﬁOption\\nﬂ means a right to purchase Common Stock granted under Section 7.\\n ﬁOption Expiration Date\\nﬂ means the last day of the maximum term of an Op\\ntion.\\n ﬁOutstanding Company Common Stock\\nﬂ has the meaning set forth in the definition of \\nﬁChange in \\nControl.\\nﬂ ﬁOutstanding Company Voting Securities\\nﬂ has the meaning set forth in the definition of \\nﬁChange in \\nControl.\\nﬂ ﬁParent Company\\nﬂ means a company or other entity which as a result of a Change in Control or Company \\nTransaction owns the Company or all or substantially all of the Company\\n™s assets either directly or through \\none or more subsidiaries.\\n ﬁParticipant\\nﬂ means any Eligible Pers\\non to whom an Award is granted.\\n ﬁPerformance Share\\nﬂ means an Award of units denominated in shares of Common Stock granted under \\nSection 11.1.\\n ﬁPerformance Unit\\nﬂ means an Award of units denominated in cash or \\nproperty\\n other than shares of \\nCommon Stock grant\\ned under Section 11.2.\\n ﬁPlan\\nﬂ means the Avalara, Inc. 2018 Equity Incentive Plan, as amended from time to time.  \\n ﬁRelated Company\\nﬂ means any entity that is directly or indirectly controlled by,\\n in control of or under \\ncommon control with the Company.\\n ﬁRestricted Stock\\nﬂ means an Award of shares of Common Stock granted under Section\\n 10, the rights of \\nownership of which are subject to restrictions prescribed by the Committee.\\n ﬁRestricted Stock Unit\\nﬂ means a Stock Unit subject to restrictions prescribed by \\nthe Committee.\\n ﬁSection 409A\\nﬂ means Section 409A of the Code, including any regulations and other guidance issued \\nthereunder by the Department of the Treasury and/or the Internal Revenue Service.\\n ﬁSecurities Act\\nﬂ means the Securities Act of 1933, as amende\\nd from time to time.\\n ﬁStock Appreciation Right\\nﬂ or \\nﬁSAR\\nﬂ means a right granted under Section\\n 9.1 to receive the excess of the \\nFair Market Value of a specified number of shares of Common Stock over the grant price.\\n ﬁStock Award\\nﬂ means an Award of shares of \\nCommon Stock granted under Section\\n 10, the rights of \\nownership of which are not subject to restrictions prescribed by the Committee.\\n ﬁStock Unit\\n,ﬂ including a Restricted Stock Unit, means an Award denominated in units of Common Stock \\ngranted under Section\\n 10.  A-5 ﬁSubstitute Awards\\nﬂ means Awards granted or shares of Common Stock issued by the Company in \\nsubstitution or exchange for awards previously granted by an Acquired Entity.\\n ﬁSuccessor Company\\nﬂ means the surviving company, the successor company or Parent C\\nompany, as \\napplicable, in connection with a Change in Control or Company Transaction.\\n ﬁTermination of Service\\nﬂ means a termination of employment or service relationship with the Company \\nor a Related Company for any reason, whether voluntary or involuntary, including by reason of death or \\nDisability.  Any question as to whether and when there has been a Termination\\n of Service for the purposes \\nof an Award and the cause of such Termination of Service shall be determined by the Company\\n™s chief \\nhuman resources officer or other person performing that function or, with respect to directors and executive \\nofficers, by the C\\nompensation Committee, whose determination shall be conclusive and binding.  Transfer \\nof a Participant\\n™s employment or service relationship between the Company and any Related Company \\nshall not be considered a Termination of Service for purposes of an Awar\\nd.  Unless the Compensation \\nCommittee determines otherwise, a Termination of Service shall be deemed to occur if the Participant\\n™s employment or service relationship is with an entity that has ceased to be a Related Company.  A \\nParticipant\\n™s change in the \\ncapacity in which the Participant renders service to the Company or a Related \\nCompany shall not be considered a Termination of Service, such as a change in status from an employee of \\nthe Company or a Related Company to a nonemployee director, consultant, a\\ndvisor, or independent \\ncontractor of the Company or a Related Company, or a change in status from a nonemployee director, \\nconsultant, advisor or independent contractor of the Company or a Related Company to an employee of the \\nCompany or a Related Company.\\n ﬁVesting Commencement Date\\nﬂ means the Grant Date or such other date selected by the Committee as the \\ndate from which an Award begins to vest.\\n    PLAN ADOPTION AND AMENDMENTS/ADJUSTMENTS\\n SUMMARY PAGE\\n  Date \\nof Board\\n Action\\n  Action\\n Section/Effect\\n of Amendment\\n Date of Shareholder\\n Approval\\n April 26, 2018\\n Plan Adoption\\n ---\\n May 1, 2018\\n       '"
      ]
     },
     "execution_count": 5,
     "metadata": {},
     "output_type": "execute_result"
    }
   ],
   "source": [
    "d=''\n",
    "f=\"generated.pdf\"\n",
    "pdf_reader(d,f)"
   ]
  },
  {
   "cell_type": "markdown",
   "metadata": {},
   "source": [
    "### 17. write a function to read a word file . "
   ]
  },
  {
   "cell_type": "code",
   "execution_count": 3,
   "metadata": {},
   "outputs": [],
   "source": [
    "import docx, os\n",
    "def word_reader(dir_path, word_name):\n",
    "    \"\"\"\n",
    "    This function reads a word file \n",
    "    \"\"\"\n",
    "    word_path = os.path.join(dir_path,word_name)\n",
    "    if os.path.exists(word_path):\n",
    "        doc = docx.Document(word_path)\n",
    "        fullText = \"\"\n",
    "        for para in doc.paragraphs:\n",
    "            fullText += para.text\n",
    "            fullText += '\\n'\n",
    "        return fullText\n",
    "    else:\n",
    "        print(\"Please enter correct path as an argument\")"
   ]
  },
  {
   "cell_type": "code",
   "execution_count": 4,
   "metadata": {},
   "outputs": [
    {
     "name": "stdout",
     "output_type": "stream",
     "text": [
      "1. In the below elements which of them are values or an expression? eg:- values can be integer or string and expressions will be mathematical operators.\n",
      "* \n",
      "'hello'\n",
      "-87.8\n",
      "- \n",
      "/ \n",
      "\n",
      "6 \n",
      "\n",
      "2. What is the difference between string and variable?\n",
      "\n",
      "3. Describe three different data types.\n",
      "\n",
      "4. What is an expression made up of? What do all expressions do?\n",
      "5. This assignment statements, like spam = 10. What is the difference between an expression and a statement?\n",
      "6. After running the following code, what does the variable bacon contain?\n",
      "bacon = 22\n",
      "bacon + 1\n",
      "\n",
      "7. What should the values of the following two terms be?\n",
      "'spam' + 'spamspam'\n",
      "'spam' * 3\n",
      "\n",
      "8. Why is eggs a valid variable name while 100 is invalid?\n",
      "9. What three functions can be used to get the integer, floating-point number, or string version of a value?\n",
      "10. Why does this expression cause an error? How can you fix it?\n",
      "'I have eaten ' + 99 + ' burritos.'\n",
      "\n",
      "\n",
      "\n"
     ]
    }
   ],
   "source": [
    "d=''\n",
    "f=\"Assignment_1.docx\"\n",
    "print(word_reader(d,f))"
   ]
  },
  {
   "cell_type": "markdown",
   "metadata": {},
   "source": [
    "### 18 . write a function which can help you to filter only word file from a directory . "
   ]
  },
  {
   "cell_type": "code",
   "execution_count": 5,
   "metadata": {},
   "outputs": [],
   "source": [
    "import os\n",
    "def word_file_finder(dir_path):\n",
    "    \"\"\"\n",
    "    This function filters only word file from a directory\n",
    "    \"\"\"\n",
    "    if os.path.exists(dir_path):\n",
    "        file_list=[]\n",
    "        for root, dirs, files in os.walk(dir_path):\n",
    "            for file in files:\n",
    "                if file.endswith('.docx'):\n",
    "                    file_list.append(os.path.join(root, file))\n",
    "        return file_list\n",
    "    else:\n",
    "        print(\"Please enter correct path as an argument\")"
   ]
  },
  {
   "cell_type": "code",
   "execution_count": 6,
   "metadata": {},
   "outputs": [
    {
     "data": {
      "text/plain": [
       "['C:\\\\Users\\\\pallavi.saxena\\\\Downloads\\\\Assignment1.docx',\n",
       " 'C:\\\\Users\\\\pallavi.saxena\\\\Downloads\\\\Assignment2.docx',\n",
       " 'C:\\\\Users\\\\pallavi.saxena\\\\Downloads\\\\Assignment3.docx',\n",
       " 'C:\\\\Users\\\\pallavi.saxena\\\\Downloads\\\\Assignment4.docx',\n",
       " 'C:\\\\Users\\\\pallavi.saxena\\\\Downloads\\\\Assignment5.docx',\n",
       " 'C:\\\\Users\\\\pallavi.saxena\\\\Downloads\\\\Assignment_1.docx',\n",
       " 'C:\\\\Users\\\\pallavi.saxena\\\\Downloads\\\\Assignment_10.docx',\n",
       " 'C:\\\\Users\\\\pallavi.saxena\\\\Downloads\\\\Assignment_11.docx',\n",
       " 'C:\\\\Users\\\\pallavi.saxena\\\\Downloads\\\\Assignment_12.docx',\n",
       " 'C:\\\\Users\\\\pallavi.saxena\\\\Downloads\\\\Assignment_13.docx',\n",
       " 'C:\\\\Users\\\\pallavi.saxena\\\\Downloads\\\\Assignment_14.docx',\n",
       " 'C:\\\\Users\\\\pallavi.saxena\\\\Downloads\\\\Assignment_15.docx',\n",
       " 'C:\\\\Users\\\\pallavi.saxena\\\\Downloads\\\\Assignment_16.docx',\n",
       " 'C:\\\\Users\\\\pallavi.saxena\\\\Downloads\\\\Assignment_17.docx',\n",
       " 'C:\\\\Users\\\\pallavi.saxena\\\\Downloads\\\\Assignment_18.docx',\n",
       " 'C:\\\\Users\\\\pallavi.saxena\\\\Downloads\\\\Assignment_19.docx',\n",
       " 'C:\\\\Users\\\\pallavi.saxena\\\\Downloads\\\\Assignment_1_1.docx',\n",
       " 'C:\\\\Users\\\\pallavi.saxena\\\\Downloads\\\\Assignment_2.docx',\n",
       " 'C:\\\\Users\\\\pallavi.saxena\\\\Downloads\\\\Assignment_20.docx',\n",
       " 'C:\\\\Users\\\\pallavi.saxena\\\\Downloads\\\\Assignment_21.docx',\n",
       " 'C:\\\\Users\\\\pallavi.saxena\\\\Downloads\\\\Assignment_22.docx',\n",
       " 'C:\\\\Users\\\\pallavi.saxena\\\\Downloads\\\\Assignment_23.docx',\n",
       " 'C:\\\\Users\\\\pallavi.saxena\\\\Downloads\\\\Assignment_24.docx',\n",
       " 'C:\\\\Users\\\\pallavi.saxena\\\\Downloads\\\\Assignment_25.docx',\n",
       " 'C:\\\\Users\\\\pallavi.saxena\\\\Downloads\\\\Assignment_2_1.docx',\n",
       " 'C:\\\\Users\\\\pallavi.saxena\\\\Downloads\\\\Assignment_3.docx',\n",
       " 'C:\\\\Users\\\\pallavi.saxena\\\\Downloads\\\\Assignment_3_1.docx',\n",
       " 'C:\\\\Users\\\\pallavi.saxena\\\\Downloads\\\\Assignment_4.docx',\n",
       " 'C:\\\\Users\\\\pallavi.saxena\\\\Downloads\\\\Assignment_4_1.docx',\n",
       " 'C:\\\\Users\\\\pallavi.saxena\\\\Downloads\\\\Assignment_5.docx',\n",
       " 'C:\\\\Users\\\\pallavi.saxena\\\\Downloads\\\\Assignment_5_1.docx',\n",
       " 'C:\\\\Users\\\\pallavi.saxena\\\\Downloads\\\\Assignment_6.docx',\n",
       " 'C:\\\\Users\\\\pallavi.saxena\\\\Downloads\\\\Assignment_7.docx',\n",
       " 'C:\\\\Users\\\\pallavi.saxena\\\\Downloads\\\\Assignment_8.docx',\n",
       " 'C:\\\\Users\\\\pallavi.saxena\\\\Downloads\\\\Assignment_9.docx',\n",
       " 'C:\\\\Users\\\\pallavi.saxena\\\\Downloads\\\\consolidated_Assignment.docx',\n",
       " 'C:\\\\Users\\\\pallavi.saxena\\\\Downloads\\\\Supporting Forms\\\\Supporting Forms\\\\Declaration_for_Future investments.docx',\n",
       " 'C:\\\\Users\\\\pallavi.saxena\\\\Downloads\\\\Supporting Forms\\\\Supporting Forms\\\\Joint Declaration for availing benefit of House Loan (20-21).docx']"
      ]
     },
     "execution_count": 6,
     "metadata": {},
     "output_type": "execute_result"
    }
   ],
   "source": [
    "word_file_finder('C:\\\\Users\\\\pallavi.saxena\\\\Downloads')"
   ]
  },
  {
   "cell_type": "markdown",
   "metadata": {},
   "source": [
    "### 19 . write a function by which you can print an ip address of your system ."
   ]
  },
  {
   "cell_type": "code",
   "execution_count": 7,
   "metadata": {},
   "outputs": [],
   "source": [
    "import socket,re,uuid\n",
    "def ip_address():\n",
    "    \"\"\"\n",
    "    This function displays ip address of your system\n",
    "    \"\"\"\n",
    "    info={}\n",
    "    info['ip-address']=socket.gethostbyname(socket.gethostname())\n",
    "    info['mac-address']=':'.join(re.findall('..', '%012x' % uuid.getnode()))\n",
    "    return info"
   ]
  },
  {
   "cell_type": "code",
   "execution_count": 8,
   "metadata": {},
   "outputs": [
    {
     "data": {
      "text/plain": [
       "{'ip-address': '192.168.0.102', 'mac-address': '92:07:64:95:5e:e6'}"
      ]
     },
     "execution_count": 8,
     "metadata": {},
     "output_type": "execute_result"
    }
   ],
   "source": [
    "ip_address()"
   ]
  },
  {
   "cell_type": "markdown",
   "metadata": {},
   "source": [
    "### 20 . write a function by whihc you will be able to append two PDF files . "
   ]
  },
  {
   "cell_type": "code",
   "execution_count": 26,
   "metadata": {},
   "outputs": [],
   "source": [
    "import os,PyPDF2\n",
    "def pdf_merger(dir_path,file_name):\n",
    "    \"\"\"\n",
    "    This function filters only word file from a directory\n",
    "    \"\"\"\n",
    "    if dir_path == '':\n",
    "        dir_path =os.getcwd()\n",
    "    merged_file = os.path.join(dir_path,file_name)\n",
    "    merger = PyPDF2.PdfFileMerger()\n",
    "    for item in os.listdir(dir_path):\n",
    "        if item.endswith('.pdf'):\n",
    "            merger.append(item)\n",
    "    merger.write(f'{merged_file}')       \n",
    "    merger.close()\n",
    "    return f\"All pdf files merged to: {merged_file}\""
   ]
  },
  {
   "cell_type": "code",
   "execution_count": 27,
   "metadata": {},
   "outputs": [
    {
     "data": {
      "text/plain": [
       "'All pdf files merged to: C:\\\\Users\\\\pallavi.saxena\\\\Documents\\\\Mine\\\\iNeuron\\\\FullStackDataScienceNovember2021\\\\LiveSession\\\\1.Python\\\\Session9_23122021\\\\MergedFile.pdf'"
      ]
     },
     "execution_count": 27,
     "metadata": {},
     "output_type": "execute_result"
    }
   ],
   "source": [
    "d=''\n",
    "f='MergedFile.pdf'\n",
    "pdf_merger(d,f)"
   ]
  },
  {
   "cell_type": "code",
   "execution_count": null,
   "metadata": {},
   "outputs": [],
   "source": []
  }
 ],
 "metadata": {
  "kernelspec": {
   "display_name": "Python 3",
   "language": "python",
   "name": "python3"
  },
  "language_info": {
   "codemirror_mode": {
    "name": "ipython",
    "version": 3
   },
   "file_extension": ".py",
   "mimetype": "text/x-python",
   "name": "python",
   "nbconvert_exporter": "python",
   "pygments_lexer": "ipython3",
   "version": "3.7.6"
  }
 },
 "nbformat": 4,
 "nbformat_minor": 4
}
